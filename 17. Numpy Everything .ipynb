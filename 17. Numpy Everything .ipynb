{
 "cells": [
  {
   "cell_type": "markdown",
   "id": "0a00a40c-e854-45c1-a85a-f7b8ff0f586f",
   "metadata": {},
   "source": [
    "## NumPy"
   ]
  },
  {
   "cell_type": "markdown",
   "id": "129fa427-6043-40b9-9128-99379db7ef9e",
   "metadata": {},
   "source": [
    "# Table of Contents"
   ]
  },
  {
   "cell_type": "markdown",
   "id": "a6209789-fd2f-4f58-a166-8d1de83b9628",
   "metadata": {},
   "source": [
    "1. Converting a List to an array\n",
    "2. Arange Function\n",
    "3. Multidimensional Array\n",
    "4. Size Function\n",
    "5. Shape Function\n",
    "6. Dtype Function\n",
    "7. Ndim Function\n",
    "8. Zeros and Ones Function\n",
    "9. Eye Function\n",
    "10. Empty Function\n",
    "11. Random Functions:\n",
    "-----a) np.random.rand\n",
    "-----b) np.random.randint\n",
    "-----c) np.random.randn\n",
    "12. Reshape function\n",
    "13. Linspace Function\n",
    "14. Flatten Function\n",
    "15. Logspace Function\n",
    "16. Copy Function\n",
    "17. arr.max() , arr.min() , arr.sum() functions\n",
    "18. Seed function\n",
    "19. Sorting in numpy array\n",
    "20. Mathematical Operation in Numpy\n",
    "-----a) Addition\n",
    "-----b) Substraction\n",
    "-----c) Multiplication\n",
    "-----d) Division\n",
    "-----e) Matrix Multiplication\n",
    "-----f) Power\n",
    "21. Percentile Function\n",
    "22. Mean, Variance and Standard Deviation\n",
    "23. Filtering an numpy array\n",
    "24. Transposing an array\n",
    "25. Where function\n",
    "26. Merging Arrays\n",
    "-----a) Using Concatenate\n",
    "-----b) Using vstack and hstack\n",
    "27. Splitting Arrays\n",
    "28. Turning Pictures into Numpy arrays"
   ]
  },
  {
   "cell_type": "code",
   "execution_count": 56,
   "id": "773bef43-824a-4985-bf25-027d9f426efc",
   "metadata": {},
   "outputs": [],
   "source": [
    "import numpy as np"
   ]
  },
  {
   "cell_type": "markdown",
   "id": "f7336e01-0316-4c2a-8c27-d48c703f9500",
   "metadata": {},
   "source": [
    "### 1. Coverting a List to Array"
   ]
  },
  {
   "cell_type": "code",
   "execution_count": 57,
   "id": "1d1f5208-ae5b-4bdd-b0fe-5fc6c38c9da6",
   "metadata": {},
   "outputs": [
    {
     "name": "stdout",
     "output_type": "stream",
     "text": [
      "<class 'list'>\n",
      "<class 'numpy.ndarray'>\n",
      "[[[[[1 2 3 4]]]]]\n"
     ]
    }
   ],
   "source": [
    "lst = [1,2,3,4]\n",
    "\n",
    "print(type(lst))\n",
    "\n",
    "arr = np.array(lst)\n",
    "\n",
    "print(type(arr))\n",
    "\n",
    "arr = np.array(lst, ndmin = 5) ## can add dimensions to the array\n",
    "\n",
    "print(arr)"
   ]
  },
  {
   "cell_type": "markdown",
   "id": "1099a05a-6911-40eb-8a77-d617fb04e579",
   "metadata": {},
   "source": [
    "### 2. Arrange function\n",
    "The arange([start,] stop[, step,][, dtype]) : Returns an array with evenly spaced elements as per the interval. The interval mentioned is half-opened i.e. [Start, Stop) \n",
    "\n"
   ]
  },
  {
   "cell_type": "code",
   "execution_count": 58,
   "id": "3d886776-b026-45dd-b936-901673a5f838",
   "metadata": {},
   "outputs": [
    {
     "data": {
      "text/plain": [
       "array([1, 3, 5, 7, 9])"
      ]
     },
     "execution_count": 58,
     "metadata": {},
     "output_type": "execute_result"
    }
   ],
   "source": [
    "arr = np.arange(1,10,2) # works similar to the range function in python\n",
    "arr"
   ]
  },
  {
   "cell_type": "markdown",
   "id": "347e9358-42b5-4c8c-a2e6-ef76930c59ba",
   "metadata": {},
   "source": [
    "### 3. Multidimensional Array"
   ]
  },
  {
   "cell_type": "code",
   "execution_count": 59,
   "id": "b365bee0-aa92-461a-84c1-0f71aad30b5a",
   "metadata": {},
   "outputs": [
    {
     "data": {
      "text/plain": [
       "array([[1, 2, 3],\n",
       "       [4, 5, 6],\n",
       "       [7, 8, 9]])"
      ]
     },
     "execution_count": 59,
     "metadata": {},
     "output_type": "execute_result"
    }
   ],
   "source": [
    "lst = ([1,2,3],[4,5,6],[7,8,9]) # created a multidimensional list\n",
    "arr = np.array(lst) ## conver the list to array\n",
    "arr"
   ]
  },
  {
   "cell_type": "markdown",
   "id": "e23ca3d4-9c52-47b0-94c6-b8d623244ba3",
   "metadata": {},
   "source": [
    "### 4. Size Function\n",
    "In Python, numpy.size() function count the number of elements along a given axis (0 - Rows | 1 - Columns)"
   ]
  },
  {
   "cell_type": "code",
   "execution_count": 60,
   "id": "8a0a1ed4-8155-4dec-953a-3881dcdffd3a",
   "metadata": {},
   "outputs": [
    {
     "name": "stdout",
     "output_type": "stream",
     "text": [
      "Total   : 9\n",
      "Rows     : 3\n",
      "Columns    : 3\n"
     ]
    }
   ],
   "source": [
    "lst = ([1,2,3],[4,5,6],[7,8,9]) # created a multidimensional list\n",
    "arr = np.array(lst) ## conver the list to array\n",
    "print(\"Total   :\", arr.size)\n",
    "print(\"Rows     :\", np.size(arr,0)) # returns rows when 0 ie axis\n",
    "print(\"Columns    :\", np.size(arr,1)) # returns cols when 1 ie axis"
   ]
  },
  {
   "cell_type": "markdown",
   "id": "d86c4b51-4f4c-428b-9713-1bd90b10de10",
   "metadata": {},
   "source": [
    "### 5. Shape Function\n",
    "The shape of an array can be defined as the number of elements in each dimension. Dimension is the number of indices or subscripts, that we require in order to specify an individual element of an array."
   ]
  },
  {
   "cell_type": "code",
   "execution_count": 61,
   "id": "1176047b-a333-4134-ad8e-62895c8a164d",
   "metadata": {},
   "outputs": [
    {
     "name": "stdout",
     "output_type": "stream",
     "text": [
      "(4, 3)\n",
      "(4, 3)\n"
     ]
    }
   ],
   "source": [
    "arr = np.array([[1,2,3],[4,5,6],[7,8,9],[1,2,3]])\n",
    "\n",
    "print((np.size(arr,0),np.size(arr,1)))\n",
    "\n",
    "print(arr.shape)"
   ]
  },
  {
   "cell_type": "markdown",
   "id": "8767ae4b-3b85-4b6a-bef6-e39483674205",
   "metadata": {},
   "source": [
    "### 6. Dtype Function\n",
    "Every ndarray has an associated data type (dtype) object. This data type object (dtype) informs us about the layout of the array. This means it gives us information about:\n",
    "\n",
    "Type of the data (integer, float, Python object, etc.)\n",
    "Size of the data (number of bytes)\n",
    "The byte order of the data (little-endian or big-endian)\n",
    "If the data type is a sub-array, what is its shape and data type"
   ]
  },
  {
   "cell_type": "code",
   "execution_count": 62,
   "id": "05e4c36c-7a3e-4ca9-8231-4d100c1a154f",
   "metadata": {},
   "outputs": [
    {
     "name": "stdout",
     "output_type": "stream",
     "text": [
      "int64\n",
      "float64\n"
     ]
    }
   ],
   "source": [
    "\n",
    "arr1 = np.array([1,2,3,1,2,3])\n",
    "arr2 = np.array([1.2,3.1,2.3])\n",
    "\n",
    "\n",
    "print(arr1.dtype)\n",
    "print(arr2.dtype)"
   ]
  },
  {
   "cell_type": "markdown",
   "id": "62291878-f22c-4f80-a0c4-ef46b5e2030c",
   "metadata": {},
   "source": [
    "### 7. Ndim Function\n",
    "numpy.ndarray.ndim() function return the number of dimensions of an array."
   ]
  },
  {
   "cell_type": "code",
   "execution_count": 63,
   "id": "4ebffb5b-c0b0-4676-ac68-2efdf36cbd21",
   "metadata": {},
   "outputs": [
    {
     "name": "stdout",
     "output_type": "stream",
     "text": [
      "1\n",
      "2\n",
      "3\n"
     ]
    }
   ],
   "source": [
    "arr1 = np.array([1,2,3,1,2,3])\n",
    "arr2 = np.array([[1,2,3],[1,2,3]])\n",
    "\n",
    "print(arr1.ndim)\n",
    "print(arr2.ndim)\n",
    "\n",
    "arr3 = np.array(arr1, ndmin = 3)\n",
    "print(arr3.ndim)"
   ]
  },
  {
   "cell_type": "markdown",
   "id": "9c80e799-f1b1-45e2-a11e-190b92bbb754",
   "metadata": {},
   "source": [
    "### 8. Zeros  Function\n",
    "The numpy.zeros() function returns a new array of given shape and type, with zeros. Syntax:\n",
    "\n",
    "numpy.zeros(shape, dtype = None)"
   ]
  },
  {
   "cell_type": "code",
   "execution_count": 64,
   "id": "116c5b78-b208-4cbe-96df-1b6c45abf483",
   "metadata": {},
   "outputs": [
    {
     "name": "stdout",
     "output_type": "stream",
     "text": [
      "[[0 0 0 0 0]\n",
      " [0 0 0 0 0]\n",
      " [0 0 0 0 0]]\n"
     ]
    }
   ],
   "source": [
    "arr = np.zeros(shape = (3,5), dtype = int)\n",
    "\n",
    "print(arr) # crrates array of zeroes, default dtyp is float so changed it to int"
   ]
  },
  {
   "cell_type": "markdown",
   "id": "86d5f19f-25e1-4287-9e38-af6bf3867f0e",
   "metadata": {},
   "source": [
    "### Ones  Function\n",
    "The numpy.ones() function returns a new array of given shape and type, with ones.\n",
    "\n",
    "Syntax: numpy.ones(shape, dtype = None)"
   ]
  },
  {
   "cell_type": "code",
   "execution_count": 65,
   "id": "fd8c36ce-e97d-4bda-839c-4522d2d9f2a8",
   "metadata": {},
   "outputs": [
    {
     "name": "stdout",
     "output_type": "stream",
     "text": [
      "[[1 1 1 1 1]\n",
      " [1 1 1 1 1]\n",
      " [1 1 1 1 1]]\n"
     ]
    }
   ],
   "source": [
    "arr = np.ones(shape = (3,5), dtype = int)\n",
    "\n",
    "print(arr)"
   ]
  },
  {
   "cell_type": "markdown",
   "id": "c2bbb8e7-736e-475c-b16d-c3ef8234c2b2",
   "metadata": {},
   "source": [
    "### 9. Eye  Function\n",
    "The eye tool returns a 2-D array with  1’s as the diagonal and  0’s elsewhere. The diagonal can be main, upper, or lower depending on the optional parameter k."
   ]
  },
  {
   "cell_type": "code",
   "execution_count": 66,
   "id": "79f0f73b-0098-4861-a103-8012d609945b",
   "metadata": {},
   "outputs": [
    {
     "data": {
      "text/plain": [
       "array([[1, 0, 0, 0],\n",
       "       [0, 1, 0, 0],\n",
       "       [0, 0, 1, 0],\n",
       "       [0, 0, 0, 1]])"
      ]
     },
     "execution_count": 66,
     "metadata": {},
     "output_type": "execute_result"
    }
   ],
   "source": [
    "np.eye(4,dtype = int) # using eye we are creating an indentity vector"
   ]
  },
  {
   "cell_type": "markdown",
   "id": "b37a78ea-cad8-4588-bcb0-dfc498ee120a",
   "metadata": {},
   "source": [
    "### 10. Empty  Function\n",
    "Return am empty array of given shape and type\n",
    "\n"
   ]
  },
  {
   "cell_type": "code",
   "execution_count": 67,
   "id": "24ba227d-b3a2-485b-bc93-8f0375ad9f4c",
   "metadata": {},
   "outputs": [
    {
     "data": {
      "text/plain": [
       "array([[0., 0., 0., 0., 0.],\n",
       "       [0., 0., 0., 0., 0.],\n",
       "       [0., 0., 0., 0., 0.],\n",
       "       [0., 0., 0., 0., 0.],\n",
       "       [0., 0., 0., 0., 0.]])"
      ]
     },
     "execution_count": 67,
     "metadata": {},
     "output_type": "execute_result"
    }
   ],
   "source": [
    "np.empty(shape = (5,5)) # simlar as zeros function"
   ]
  },
  {
   "cell_type": "markdown",
   "id": "89639f03-fe62-465e-b1d9-840f3d9f724d",
   "metadata": {},
   "source": [
    "### 11. Random  Functions"
   ]
  },
  {
   "cell_type": "markdown",
   "id": "a151c4b9-d5d1-415a-a99f-085f04aa2945",
   "metadata": {},
   "source": [
    "#### a) np.random.rand\n",
    "The numpy.random.rand() function creates an array of specified shape and fills it with random values."
   ]
  },
  {
   "cell_type": "code",
   "execution_count": 68,
   "id": "cae66ad2-838b-4e2b-8d10-f3714e91a37c",
   "metadata": {},
   "outputs": [
    {
     "data": {
      "text/plain": [
       "array([[0.39224952, 0.96369562, 0.44640128, 0.15237154],\n",
       "       [0.53257939, 0.01235032, 0.06658723, 0.50210512],\n",
       "       [0.23246389, 0.90822868, 0.03321631, 0.89130855],\n",
       "       [0.06866829, 0.90352635, 0.36522435, 0.89247378]])"
      ]
     },
     "execution_count": 68,
     "metadata": {},
     "output_type": "execute_result"
    }
   ],
   "source": [
    "np.random.rand(4,4) #all the numbers generated in rand functon will have range from 0-1"
   ]
  },
  {
   "cell_type": "markdown",
   "id": "3b48c9b4-04fd-4eaf-a9b5-5f801db2edcb",
   "metadata": {},
   "source": [
    "#### b) np.random.randint\n",
    "numpy.random.randint() is one of the function for doing random sampling in numpy. It returns an array of specified shape and fills it with random integers from low (inclusive) to high (exclusive), i.e. in the interval [low, high)."
   ]
  },
  {
   "cell_type": "code",
   "execution_count": 69,
   "id": "10d52f33-8944-4e87-9a23-c032906c2c1b",
   "metadata": {},
   "outputs": [
    {
     "data": {
      "text/plain": [
       "array([ 1, 12, 12,  1, 14, 15, 12, 17, 12, 12])"
      ]
     },
     "execution_count": 69,
     "metadata": {},
     "output_type": "execute_result"
    }
   ],
   "source": [
    "np.random.randint(low = 1, high = 20 , size = 10) # pass parameters such as start,end and the size"
   ]
  },
  {
   "cell_type": "markdown",
   "id": "ee8f324f-2351-4628-98f1-6a1d236002a1",
   "metadata": {},
   "source": [
    "#### c) np.random.randn\n",
    "The numpy.random.randn() function creates an array of specified shape and fills it with random values as per standard normal distribution.\n",
    "it is as per the standard normal distribution and the numbers are close to 0 and it also includes negative numbers"
   ]
  },
  {
   "cell_type": "code",
   "execution_count": 75,
   "id": "d09c66e9-f2cc-48ce-bb4e-60514b21dffc",
   "metadata": {},
   "outputs": [
    {
     "data": {
      "image/png": "[encoded data removed]",
      "text/plain": [
       "<Figure size 640x480 with 1 Axes>"
      ]
     },
     "metadata": {},
     "output_type": "display_data"
    }
   ],
   "source": [
    "import matplotlib.pyplot as plt\n",
    "plt.hist(np.random.randn(10000000), bins = 1000);\n",
    "plt.show() # random number created using the"
   ]
  },
  {
   "cell_type": "markdown",
   "id": "d16cf9d7-5b2f-45c3-996b-07b1765241a4",
   "metadata": {},
   "source": [
    "### 12. Reshape function - will not alter the original data\n",
    "The numpy.reshape() function shapes an array without changing the data of the array.<br> It should be noted that the product if the rows and columns should be same "
   ]
  },
  {
   "cell_type": "code",
   "execution_count": 76,
   "id": "7d24eb48-9fad-4f81-be12-cdb47f6966de",
   "metadata": {},
   "outputs": [
    {
     "name": "stdout",
     "output_type": "stream",
     "text": [
      "(3, 4)\n",
      "(4, 3)\n",
      "(6, 2)\n"
     ]
    }
   ],
   "source": [
    "arr = np.random.randint(1,15,(3,4))\n",
    "\n",
    "print(arr.shape)\n",
    "arr = arr.reshape(4,3)\n",
    "print(arr.shape)\n",
    "arr = arr.reshape(6,2)\n",
    "print(arr.shape)"
   ]
  },
  {
   "cell_type": "markdown",
   "id": "acc7ccac-2a83-4e35-a829-3c4d160e0c92",
   "metadata": {},
   "source": [
    "### 13. Linspace  Function\n",
    "The numpy.linspace() function returns number spaces evenly w.r.t interval. Similar to numpy.arange() function but instead of step it uses sample number.\n",
    "\n",
    "Parameters :\n",
    "\n",
    "-> start : [optional] start of interval range. By default start = 0\n",
    "-> stop : end of interval range\n",
    "-> restep : If True, return (samples, step). By default restep = False\n",
    "-> num : [int, optional] No. of samples to generate\n",
    "-> dtype : type of output array"
   ]
  },
  {
   "cell_type": "code",
   "execution_count": 78,
   "id": "15c9f985-1e7d-4931-b417-a7afd1536400",
   "metadata": {},
   "outputs": [
    {
     "data": {
      "text/plain": [
       "array([ 1.  ,  3.25,  5.5 ,  7.75, 10.  ])"
      ]
     },
     "execution_count": 78,
     "metadata": {},
     "output_type": "execute_result"
    }
   ],
   "source": [
    "## the elements in the array created are equidistant from each other\n",
    "np.linspace(1,10,5)"
   ]
  },
  {
   "cell_type": "markdown",
   "id": "531663e8-a920-4eb1-9b87-b7ba9be33535",
   "metadata": {},
   "source": [
    "### 14. Flatten  Function\n",
    "ndarray.flatten() function return a copy of the array collapsed into one dimension"
   ]
  },
  {
   "cell_type": "code",
   "execution_count": 79,
   "id": "48bb2722-aa0b-4f83-9fbc-ea80bb8a23ad",
   "metadata": {},
   "outputs": [
    {
     "name": "stdout",
     "output_type": "stream",
     "text": [
      "(3, 4)\n",
      "[[12  1  6  5]\n",
      " [ 1  8 14  8]\n",
      " [ 7  8  1 13]]\n",
      "--------------------\n",
      "(12,)\n",
      "[12  1  6  5  1  8 14  8  7  8  1 13]\n"
     ]
    }
   ],
   "source": [
    "arr = np.random.randint(1,15,(3,4))\n",
    "\n",
    "print(arr.shape)\n",
    "print(arr)\n",
    "print('-'*20)\n",
    "arr = arr.flatten()\n",
    "print(arr.shape)\n",
    "print(arr)"
   ]
  },
  {
   "cell_type": "markdown",
   "id": "4cae0dfb-5a76-4af9-b487-e283c7c866e8",
   "metadata": {},
   "source": [
    "### 15. Logspace  Function\n",
    "The numpy.logspace() function returns number spaces evenly w.r.t interval on a log scale.\n",
    "\n",
    "Parameters :\n",
    "\n",
    "-> start : [float] start(base ** start) of interval range.\n",
    "\n",
    "-> stop : [float] end(base ** stop) of interval range\n",
    "\n",
    "-> endpoint : [boolean, optional]If True, stop is the last sample. By default, True\n",
    "\n",
    "-> num : [int, optional] No. of samples to generate\n",
    "\n",
    "-> base : [float, optional] Base of log scale. By default, equals 10.0\n",
    "\n",
    "-> dtype : type of output array\n"
   ]
  },
  {
   "cell_type": "code",
   "execution_count": 80,
   "id": "d7ea66f0-9cf2-4b3c-b304-233371925800",
   "metadata": {},
   "outputs": [
    {
     "name": "stdout",
     "output_type": "stream",
     "text": [
      "[  100.           166.81005372   278.25594022   464.15888336\n",
      "   774.26368268  1291.54966501  2154.43469003  3593.8136638\n",
      "  5994.84250319 10000.        ]\n",
      "--------------------\n",
      "[ 4.          4.66611616  5.44316     6.34960421  7.4069977   8.64047791\n",
      " 10.0793684  11.75787594 13.71590373 16.        ]\n"
     ]
    }
   ],
   "source": [
    "# creates elements in array which are equivalent to the log\n",
    "print(np.logspace(2,4,10))\n",
    "print('-'*20)\n",
    "print(np.logspace(2,4,10, base = 2))"
   ]
  },
  {
   "cell_type": "markdown",
   "id": "b113b747-19e8-4036-8b6c-b7a02996c49d",
   "metadata": {},
   "source": [
    "### 16. Copy function\n",
    "If we normally use the equals sign then the **id** of both the numpy array will be same, so we need to use to copy function"
   ]
  },
  {
   "cell_type": "code",
   "execution_count": 81,
   "id": "beded249-8701-44e6-9ac5-ad90ba1351aa",
   "metadata": {},
   "outputs": [
    {
     "name": "stdout",
     "output_type": "stream",
     "text": [
      "[ 6 12 10  5  9  2 11  8 11 10] 13195455024\n",
      "[ 6 12 10  5  9  2 11  8 11 10] 13195455024\n",
      "--------------------------------------------------\n",
      "[ 6  1  7  9  4  5  2 10 13  8] 13195454352\n",
      "[ 6  1  7  9  4  5  2 10 13  8] 13146444624\n"
     ]
    }
   ],
   "source": [
    "# use copy if you want different ids for the arrays\n",
    "\n",
    "arr1 = np.random.randint(1,15,10)\n",
    "\n",
    "arr2 = arr1\n",
    "\n",
    "print(arr1, id(arr1))\n",
    "print(arr2, id(arr2))\n",
    "\n",
    "print('-'*50)\n",
    "\n",
    "arr1 = np.random.randint(1,15,10)\n",
    "arr2 = np.copy(arr1)\n",
    "\n",
    "print(arr1, id(arr1))\n",
    "print(arr2, id(arr2))"
   ]
  },
  {
   "cell_type": "markdown",
   "id": "2a62c7ae-5f17-4f27-854f-5fe2f12cdf94",
   "metadata": {},
   "source": [
    "### 17. arr.max() ,  arr.min() ,     arr.sum() functions\n",
    "\n",
    "arr.max() will give us the maximum element present in the array\n",
    "\n",
    "arr.min() will give us the minimun element present in the array\n",
    "\n",
    "arr.sum() will give us the sum of all the elements present in the array"
   ]
  },
  {
   "cell_type": "code",
   "execution_count": 82,
   "id": "79c3b3aa-d3b3-431e-afe1-d1275e07cf7f",
   "metadata": {},
   "outputs": [
    {
     "name": "stdout",
     "output_type": "stream",
     "text": [
      "--------------------\n",
      "[[26  1 27 11 23]\n",
      " [19 16 24  1 16]\n",
      " [27  4 29  8 23]]\n",
      "--------------------\n",
      "MAX :  29\n",
      "MIN :  1\n",
      "SUM :  255\n"
     ]
    }
   ],
   "source": [
    "arr = np.random.randint(1,30,(3,5))\n",
    "\n",
    "print('-'*20)\n",
    "print(arr)\n",
    "print('-'*20)\n",
    "\n",
    "print('MAX : ', arr.max())\n",
    "print('MIN : ', arr.min())\n",
    "print('SUM : ', arr.sum())"
   ]
  },
  {
   "cell_type": "markdown",
   "id": "71a34a10-ffbe-4800-9455-517418fa2173",
   "metadata": {},
   "source": [
    "We can use the axis parameter to get the max, min and sum of a particular column or row\n",
    "\n",
    "axis=0 is for the column\n",
    "axis=1 is for the row"
   ]
  },
  {
   "cell_type": "markdown",
   "id": "6d92cfa9-e430-4e90-a511-d0bd2b1e5a2f",
   "metadata": {},
   "source": [
    "For columns"
   ]
  },
  {
   "cell_type": "code",
   "execution_count": 83,
   "id": "5e7e70c3-f719-40d1-b164-698c068ed6fa",
   "metadata": {},
   "outputs": [
    {
     "name": "stdout",
     "output_type": "stream",
     "text": [
      "MAX :  [27 16 29 11 23]\n",
      "MIN :  [19  1 24  1 16]\n",
      "SUM :  [72 21 80 20 62]\n"
     ]
    }
   ],
   "source": [
    "print('MAX : ', arr.max(axis = 0))\n",
    "print('MIN : ', arr.min(axis = 0))\n",
    "print('SUM : ', arr.sum(axis = 0))"
   ]
  },
  {
   "cell_type": "markdown",
   "id": "36d804f8-0fe7-4358-9bd7-dee9e464d799",
   "metadata": {},
   "source": [
    "For Rows"
   ]
  },
  {
   "cell_type": "code",
   "execution_count": 84,
   "id": "03214440-744e-4487-9696-6028599db713",
   "metadata": {},
   "outputs": [
    {
     "name": "stdout",
     "output_type": "stream",
     "text": [
      "MAX :  [27 24 29]\n",
      "MIN :  [1 1 4]\n",
      "SUM :  [88 76 91]\n"
     ]
    }
   ],
   "source": [
    "print('MAX : ', arr.max(axis = 1))\n",
    "print('MIN : ', arr.min(axis = 1))\n",
    "print('SUM : ', arr.sum(axis = 1))"
   ]
  },
  {
   "cell_type": "markdown",
   "id": "84a9c40b-cbae-4e4a-930f-ec71a9c4fb71",
   "metadata": {},
   "source": [
    "### 18. Seed Function\n",
    "random() function is used to generate random numbers in Python. Not actually random, rather this is used to generate pseudo-random numbers. That implies that these randomly generated numbers can be determined. random() function generates numbers for some values. This value is also called seed value.\n",
    "\n",
    "Syntax : random.seed( l, version )<br>\n",
    "\n",
    "Parameter :\n",
    "\n",
    "l : Any seed value used to produce a random number.\n",
    "version : A integer used to specify how to convert l in a integer.\n",
    "\n",
    "genrate psudo random numbers"
   ]
  },
  {
   "cell_type": "code",
   "execution_count": 85,
   "id": "fcb530c3-64fa-4bbe-9431-c9db2fe491a6",
   "metadata": {},
   "outputs": [
    {
     "data": {
      "text/plain": [
       "array([[9, 4, 9, 9, 1],\n",
       "       [6, 4, 6, 8, 7],\n",
       "       [1, 5, 8, 9, 2]])"
      ]
     },
     "execution_count": 85,
     "metadata": {},
     "output_type": "execute_result"
    }
   ],
   "source": [
    "np.random.seed(3)\n",
    "\n",
    "arr = np.random.randint(1,10,(3,5))\n",
    "\n",
    "arr\n",
    "# seed function is used for uniformity . when seed is initialized the random numbers generated will be same"
   ]
  },
  {
   "cell_type": "markdown",
   "id": "30afa6c5-e069-4ac7-8a51-d5cc3aaa4e0f",
   "metadata": {},
   "source": [
    "### 19. Sorting Function\n",
    "numpy.sort() : This function returns a sorted copy of an array.\n",
    "\n",
    "Parameters :\n",
    "\n",
    "arr : Array to be sorted.\n",
    "\n",
    "axis : Axis along which we need array to be started.\n",
    "\n",
    "order : This argument specifies which fields to compare first.\n",
    "\n",
    "kind : [‘quicksort’{default}, ‘mergesort’, ‘heapsort’]Sorting algorithm."
   ]
  },
  {
   "cell_type": "code",
   "execution_count": null,
   "id": "36b17e18-6c86-4805-887f-45bc256c21ad",
   "metadata": {},
   "outputs": [],
   "source": [
    "np.random.seed(3)\n",
    "arr = np.random.randint(1,10,(3,5)) # initialized arr\n",
    "\n",
    "\n",
    "print(\"org array\")\n",
    "print(arr)\n",
    "print(\"sorting according to cols\")\n",
    "print(np.sort(arr, axis = 1)) # sort array according to the col\n",
    "print(\"sorting according to rows\")\n",
    "print(np.sort(arr, axis = 0)) # sort array according to the row\n",
    "print(\"sorting in linear way\")\n",
    "\n",
    "# now if we want to sort array in a proper order in a linear form. We can write code in asingle line to do the \n",
    "# same . first we flatten the array, sort it , mention the shape of the arr and then reshape it completley to \n",
    "# the previous format\n",
    "arr = np.reshape(np.sort(arr.flatten()), arr.shape) \n",
    "print(arr)\n",
    "print('-'*15)"
   ]
  },
  {
   "cell_type": "markdown",
   "id": "c5706e14-8136-48d6-b2be-9ab18f0b4860",
   "metadata": {},
   "source": [
    "We can choose which type of sort we want to perform"
   ]
  },
  {
   "cell_type": "code",
   "execution_count": 89,
   "id": "72926c04-8ab4-41c6-b03b-5a8dbe7e8c1e",
   "metadata": {},
   "outputs": [
    {
     "name": "stdout",
     "output_type": "stream",
     "text": [
      "[[1 1 2 4 4]\n",
      " [5 6 6 7 8]\n",
      " [8 9 9 9 9]]\n"
     ]
    }
   ],
   "source": [
    "print(np.sort(arr, axis = 0, kind = 'mergesort'))"
   ]
  },
  {
   "cell_type": "markdown",
   "id": "a1f1dd50-313a-42ff-ba94-d453be78d6b5",
   "metadata": {},
   "source": [
    "### 20. Mathematical Operations"
   ]
  },
  {
   "cell_type": "markdown",
   "id": "c6bf7d62-c654-4834-a35c-8d2bab0b23a1",
   "metadata": {},
   "source": [
    "a) Addition"
   ]
  },
  {
   "cell_type": "code",
   "execution_count": 91,
   "id": "a56483b5-e73d-4e8c-bb42-feb2cfc42294",
   "metadata": {},
   "outputs": [
    {
     "name": "stdout",
     "output_type": "stream",
     "text": [
      "---------------\n",
      "[[9 4 9 9 1]\n",
      " [6 4 6 8 7]\n",
      " [1 5 8 9 2]]\n",
      "---------------\n",
      "[[10  5 10 10  2]\n",
      " [ 7  5  7  9  8]\n",
      " [ 2  6  9 10  3]]\n",
      "---------------\n"
     ]
    }
   ],
   "source": [
    "np.random.seed(3)\n",
    "\n",
    "arr = np.random.randint(1,10,(3,5))\n",
    "\n",
    "print('-' * 15)\n",
    "print(arr)\n",
    "print('-' * 15)\n",
    "print(arr + 1)\n",
    "print('-' * 15)"
   ]
  },
  {
   "cell_type": "markdown",
   "id": "28bdfe40-8242-4911-8d9e-40bd45c73395",
   "metadata": {},
   "source": [
    "b) Subtraction"
   ]
  },
  {
   "cell_type": "code",
   "execution_count": 92,
   "id": "6a6d639a-9fd9-460f-9d15-a6bb1a989e12",
   "metadata": {},
   "outputs": [
    {
     "name": "stdout",
     "output_type": "stream",
     "text": [
      "---------------\n",
      "[[9 4 9 9 1]\n",
      " [6 4 6 8 7]\n",
      " [1 5 8 9 2]]\n",
      "---------------\n",
      "[[8 3 8 8 0]\n",
      " [5 3 5 7 6]\n",
      " [0 4 7 8 1]]\n",
      "---------------\n"
     ]
    }
   ],
   "source": [
    "np.random.seed(3)\n",
    "\n",
    "arr = np.random.randint(1,10,(3,5))\n",
    "\n",
    "print('-' * 15)\n",
    "print(arr)\n",
    "print('-' * 15)\n",
    "print(arr - 1)\n",
    "print('-' * 15)"
   ]
  },
  {
   "cell_type": "markdown",
   "id": "cdd62db0-5b59-42ca-85d3-c8b58a01b652",
   "metadata": {},
   "source": [
    "c) Multiplication"
   ]
  },
  {
   "cell_type": "code",
   "execution_count": 93,
   "id": "8cec1cd3-4cab-487f-97ec-f2c9e86ca8aa",
   "metadata": {},
   "outputs": [
    {
     "name": "stdout",
     "output_type": "stream",
     "text": [
      "---------------\n",
      "[[9 4 9 9 1]\n",
      " [6 4 6 8 7]\n",
      " [1 5 8 9 2]]\n",
      "---------------\n",
      "[[18  8 18 18  2]\n",
      " [12  8 12 16 14]\n",
      " [ 2 10 16 18  4]]\n",
      "---------------\n"
     ]
    }
   ],
   "source": [
    "print('-' * 15)\n",
    "print(arr)\n",
    "print('-' * 15)\n",
    "print(arr * 2)\n",
    "print('-' * 15)"
   ]
  },
  {
   "cell_type": "markdown",
   "id": "0155b923-6c17-4d31-b7d6-d7d0ca0996be",
   "metadata": {},
   "source": [
    "d) Division"
   ]
  },
  {
   "cell_type": "code",
   "execution_count": 94,
   "id": "0d3662e2-5c48-47ee-931a-d7f2f589bb46",
   "metadata": {},
   "outputs": [
    {
     "name": "stdout",
     "output_type": "stream",
     "text": [
      "---------------\n",
      "[[9 4 9 9 1]\n",
      " [6 4 6 8 7]\n",
      " [1 5 8 9 2]]\n",
      "---------------\n",
      "[[4.5 2.  4.5 4.5 0.5]\n",
      " [3.  2.  3.  4.  3.5]\n",
      " [0.5 2.5 4.  4.5 1. ]]\n",
      "---------------\n"
     ]
    }
   ],
   "source": [
    "print('-' * 15)\n",
    "print(arr)\n",
    "print('-' * 15)\n",
    "print(arr / 2)\n",
    "print('-' * 15)"
   ]
  },
  {
   "cell_type": "markdown",
   "id": "b7c5f377-7de4-42a4-aad9-7e3fa49cbf50",
   "metadata": {},
   "source": [
    "e) Matrix Multiplication\n",
    "\n",
    "For Matrix Multiplication we either use the \n",
    "\n",
    "dot function or\n",
    "the @ symbol"
   ]
  },
  {
   "cell_type": "code",
   "execution_count": 95,
   "id": "4354b100-c8ed-43a4-915c-83a88b33e299",
   "metadata": {},
   "outputs": [
    {
     "name": "stdout",
     "output_type": "stream",
     "text": [
      "[[ 25  78]\n",
      " [ 45 108]]\n",
      "------------\n",
      "[[ 25  78]\n",
      " [ 45 108]]\n"
     ]
    }
   ],
   "source": [
    "np.random.seed(3)\n",
    "\n",
    "arr1 = np.random.randint(1,10,(2,2))\n",
    "arr2 = np.random.randint(1,10,(2,2))\n",
    "\n",
    "print(arr1.dot(arr2))\n",
    "print('-'*12)\n",
    "print(arr1@arr2)"
   ]
  },
  {
   "cell_type": "markdown",
   "id": "2c2000ac-caad-41c1-8428-1949f890d947",
   "metadata": {},
   "source": [
    "f) Power"
   ]
  },
  {
   "cell_type": "code",
   "execution_count": 97,
   "id": "3139bc69-59bc-43f1-853a-df306f56e61f",
   "metadata": {},
   "outputs": [
    {
     "name": "stdout",
     "output_type": "stream",
     "text": [
      "[[9 4 9 9 1]\n",
      " [6 4 6 8 7]\n",
      " [1 5 8 9 2]]\n",
      "---------------\n",
      "[[81 16 81 81  1]\n",
      " [36 16 36 64 49]\n",
      " [ 1 25 64 81  4]]\n"
     ]
    }
   ],
   "source": [
    "print(arr)\n",
    "print('-'*15)\n",
    "print(arr ** 2)"
   ]
  },
  {
   "cell_type": "markdown",
   "id": "9eb01e61-53b6-4b0a-a20a-3f3b128acbdd",
   "metadata": {},
   "source": [
    "### 21. Percentile Function\n",
    "numpy.percentile()function used to compute the nth percentile of the given data (array elements) along the specified axis."
   ]
  },
  {
   "cell_type": "code",
   "execution_count": 98,
   "id": "723e214b-e8a9-4b15-aa60-fb2035b8fe30",
   "metadata": {},
   "outputs": [
    {
     "name": "stdout",
     "output_type": "stream",
     "text": [
      "[9 4 9 9 1 6 4 6 8 7]\n",
      "[1 4 4 6 6 7 8 9 9 9]\n",
      "6.5\n"
     ]
    }
   ],
   "source": [
    "np.random.seed(3)\n",
    "\n",
    "arr = np.random.randint(1,10,10)\n",
    "print(arr)\n",
    "\n",
    "arr = np.sort(arr)\n",
    "print(arr)\n",
    "\n",
    "print(np.percentile(arr, 50))"
   ]
  },
  {
   "cell_type": "markdown",
   "id": "8a20cf11-f5b9-4980-a838-b725b88385de",
   "metadata": {},
   "source": [
    "### 22. Mean, Variance and Standard deviation\n",
    "\n",
    "In NumPy, we can compute the mean, standard deviation, and variance of a given array along the second axis by two approaches first is by using inbuilt functions and second is by the formulas of the mean, standard deviation, and variance.\n",
    "\n",
    "Using numpy.mean(), numpy.std(), numpy.var()"
   ]
  },
  {
   "cell_type": "code",
   "execution_count": 99,
   "id": "25e369c3-59c0-4b08-90cc-ef030cec274d",
   "metadata": {},
   "outputs": [
    {
     "name": "stdout",
     "output_type": "stream",
     "text": [
      "[1 5 8 9 2 7 3 3 2 4]\n",
      "4.4\n",
      "6.839999999999999\n",
      "2.6153393661244038\n"
     ]
    }
   ],
   "source": [
    "arr = np.random.randint(1,10,10)\n",
    "\n",
    "print(arr)\n",
    "print(arr.mean())\n",
    "print(arr.var())\n",
    "print(arr.std())"
   ]
  },
  {
   "cell_type": "markdown",
   "id": "6a2b8f11-63e4-4dd8-931b-a9d0629eda79",
   "metadata": {},
   "source": [
    "### 23. Filtering an numpy array"
   ]
  },
  {
   "cell_type": "code",
   "execution_count": 100,
   "id": "02e7814a-30a2-4e9a-9637-a8577aa19e41",
   "metadata": {},
   "outputs": [
    {
     "name": "stdout",
     "output_type": "stream",
     "text": [
      "[1 2 3 4 5 6 7 8 9]\n",
      "[ True  True  True  True False False False False False]\n",
      "[1 2 3 4]\n"
     ]
    }
   ],
   "source": [
    "arr = np.arange(1,10)\n",
    "\n",
    "print(arr)\n",
    "print(arr < 5)\n",
    "print(arr[arr < 5])"
   ]
  },
  {
   "cell_type": "markdown",
   "id": "93d7f536-562a-4103-87f1-4b2b594fb73d",
   "metadata": {},
   "source": [
    "We can store this into a new variable if we need this filtered array"
   ]
  },
  {
   "cell_type": "code",
   "execution_count": 101,
   "id": "6b1b428f-a33a-4b5c-9a69-cb17e844345e",
   "metadata": {},
   "outputs": [
    {
     "name": "stdout",
     "output_type": "stream",
     "text": [
      "[1 2 3 4]\n"
     ]
    }
   ],
   "source": [
    "arr2 = arr[arr < 5] \n",
    "print(arr2)"
   ]
  },
  {
   "cell_type": "markdown",
   "id": "fbe7e195-7d3f-429a-9946-879e78252700",
   "metadata": {},
   "source": [
    "If we want to replace all the values above 5 with 10 we can even do that"
   ]
  },
  {
   "cell_type": "code",
   "execution_count": 102,
   "id": "ff3463d4-a735-459e-b909-e5a9e01af504",
   "metadata": {},
   "outputs": [
    {
     "data": {
      "text/plain": [
       "array([ 1,  2,  3,  4,  5, 10, 10, 10, 10])"
      ]
     },
     "execution_count": 102,
     "metadata": {},
     "output_type": "execute_result"
    }
   ],
   "source": [
    "arr[arr > 5] = 10\n",
    "\n",
    "arr"
   ]
  },
  {
   "cell_type": "markdown",
   "id": "28bec27a-02fb-4cb7-80ee-cd5224e34296",
   "metadata": {},
   "source": [
    "### 24) Transposing an array\n",
    "With the help of Numpy ndarray.T object, we can make a Transpose of an array having dimension greater than or equal to 2."
   ]
  },
  {
   "cell_type": "code",
   "execution_count": 103,
   "id": "19bbfc1d-859b-4b20-9a10-0b646e41bca1",
   "metadata": {},
   "outputs": [
    {
     "name": "stdout",
     "output_type": "stream",
     "text": [
      "[[ 6  9 15  2 11]\n",
      " [ 8 12  2 16 17]\n",
      " [ 6 18 15  1  1]]\n",
      "--------------------\n",
      "[[ 6  8  6]\n",
      " [ 9 12 18]\n",
      " [15  2 15]\n",
      " [ 2 16  1]\n",
      " [11 17  1]]\n"
     ]
    }
   ],
   "source": [
    "arr = np.random.randint(1,20,(3,5))\n",
    "\n",
    "print(arr)\n",
    "print('-'*20)\n",
    "print(arr.T)"
   ]
  },
  {
   "cell_type": "markdown",
   "id": "bc5508a8-e54c-4f4a-a3f1-0b762a7444e8",
   "metadata": {},
   "source": [
    "### 25. Where function \n",
    "The numpy.where() function returns the indices of elements in an input array where the given condition is satisfied.\n",
    "\n",
    "Syntax :numpy.where(condition[, x, y]) Parameters: condition : When True, yield x, otherwise yield y. x, y : Values from which to choose. x, y and condition need to be broadcastable to some shape.\n",
    "\n",
    "Returns: out : [ndarray or tuple of ndarrays] If both x and y are specified, the output array contains elements of x where condition is True, and elements from y elsewhere.\n",
    "\n",
    "If only condition is given, return the tuple condition.nonzero(), the indices where condition is True."
   ]
  },
  {
   "cell_type": "code",
   "execution_count": 104,
   "id": "c7a3bde8-52ea-4da7-b88c-417385ad51a0",
   "metadata": {},
   "outputs": [
    {
     "data": {
      "text/plain": [
       "array([19, 64, 38, 57, 57, 72, 38, 47, 34,  2])"
      ]
     },
     "execution_count": 104,
     "metadata": {},
     "output_type": "execute_result"
    }
   ],
   "source": [
    "arr = np.random.randint(1,100,10)\n",
    "arr"
   ]
  },
  {
   "cell_type": "markdown",
   "id": "b01be099-9c55-4aa3-a639-c0a95b4cd3c8",
   "metadata": {},
   "source": [
    "So now if we are having an even number let's convert it into 100 and the ones which are odd we leave it to the way it is"
   ]
  },
  {
   "cell_type": "code",
   "execution_count": 105,
   "id": "9f909afc-0d7e-4a80-835e-fe87302e0977",
   "metadata": {},
   "outputs": [
    {
     "name": "stdout",
     "output_type": "stream",
     "text": [
      "[19 64 38 57 57 72 38 47 34  2]\n",
      "['19' 'even' 'even' '57' '57' 'even' 'even' '47' 'even' 'even']\n",
      "['odd' '64' '38' 'odd' 'odd' '72' '38' 'odd' '34' '2']\n",
      "['odd' 'even' 'even' 'odd' 'odd' 'even' 'even' 'odd' 'even' 'even']\n"
     ]
    }
   ],
   "source": [
    "print(arr)\n",
    "\n",
    "print(np.where(arr%2==0, 'even',arr))\n",
    "print(np.where(arr%2!=0, 'odd',arr))\n",
    "\n",
    "arr1 = np.where(arr%2==0, 'even',arr)\n",
    "arr1 = np.where(arr%2!=0, 'odd',arr1)\n",
    "\n",
    "print(arr1)"
   ]
  },
  {
   "cell_type": "markdown",
   "id": "0744e3eb-3df8-4066-a95e-9664767fcdee",
   "metadata": {},
   "source": [
    "### 26. Merging Arrays\n",
    "a) Concatenate\n",
    "\n",
    "We can perform the concatenation operation using the concatenate() function. With this function, arrays are concatenated either row-wise or column-wise, given that they have equal rows or columns respectively. Column-wise concatenation can be done by equating axis to 1 as an argument in the function."
   ]
  },
  {
   "cell_type": "code",
   "execution_count": 109,
   "id": "772c6d02-06ba-49c0-b015-3eddb95f1b20",
   "metadata": {},
   "outputs": [
    {
     "name": "stdout",
     "output_type": "stream",
     "text": [
      "[[5 2 3 3]\n",
      " [5 9 1 7]]\n",
      "---------------\n",
      "[[1 5 2 6]\n",
      " [2 9 9 8]]\n",
      "rowwise\n",
      "[[5 2 3 3]\n",
      " [5 9 1 7]\n",
      " [1 5 2 6]\n",
      " [2 9 9 8]]\n",
      "column wise\n",
      "[[5 2 3 3 1 5 2 6]\n",
      " [5 9 1 7 2 9 9 8]]\n"
     ]
    }
   ],
   "source": [
    "arr1 = np.random.randint(1,10,(2,4))\n",
    "arr2 = np.random.randint(1,10,(2,4))\n",
    "\n",
    "print(arr1)\n",
    "print('-'*15)\n",
    "print(arr2)\n",
    "\n",
    "print(\"rowwise\")\n",
    "print(np.concatenate((arr1,arr2), axis = 0))\n",
    "print(\"column wise\")\n",
    "print(np.concatenate((arr1,arr2), axis = 1))"
   ]
  },
  {
   "cell_type": "markdown",
   "id": "d3a696dd-5e60-4e3f-8bf3-9a2aee9a4708",
   "metadata": {},
   "source": [
    "### b) Vstack and Hstack\n",
    "\n",
    "numpy.hstack() function is used to stack the sequence of input arrays horizontally (i.e. column wise) to make a single array."
   ]
  },
  {
   "cell_type": "code",
   "execution_count": 110,
   "id": "6e82dd02-feee-4887-848f-bde54062da97",
   "metadata": {},
   "outputs": [
    {
     "name": "stdout",
     "output_type": "stream",
     "text": [
      "[[1 1 2 8]\n",
      " [9 8 5 1]]\n",
      "---------------\n",
      "[[1 5 4 1]\n",
      " [9 3 8 3]]\n",
      "---------------\n",
      "[[1 1 2 8 1 5 4 1]\n",
      " [9 8 5 1 9 3 8 3]]\n"
     ]
    }
   ],
   "source": [
    "arr1 = np.random.randint(1,10,(2,4))\n",
    "arr2 = np.random.randint(1,10,(2,4))\n",
    "\n",
    "print(arr1)\n",
    "print('-'*15)\n",
    "print(arr2)\n",
    "print('-'*15)\n",
    "\n",
    "print(np.hstack((arr1,arr2)))"
   ]
  },
  {
   "cell_type": "markdown",
   "id": "73f2ffb8-5d89-493b-a2b8-704e2f47ee7a",
   "metadata": {},
   "source": [
    "numpy.vstack() function is used to stack the sequence of input arrays vertically to make a single array."
   ]
  },
  {
   "cell_type": "code",
   "execution_count": 111,
   "id": "c67fdd1b-015e-4210-95e1-a58ac18f249d",
   "metadata": {},
   "outputs": [
    {
     "name": "stdout",
     "output_type": "stream",
     "text": [
      "[[1 1 2 8]\n",
      " [9 8 5 1]]\n",
      "---------------\n",
      "[[1 5 4 1]\n",
      " [9 3 8 3]]\n",
      "---------------\n",
      "[[1 1 2 8]\n",
      " [9 8 5 1]\n",
      " [1 5 4 1]\n",
      " [9 3 8 3]]\n"
     ]
    }
   ],
   "source": [
    "print(arr1)\n",
    "print('-'*15)\n",
    "print(arr2)\n",
    "print('-'*15)\n",
    "\n",
    "print(np.vstack((arr1,arr2)))"
   ]
  },
  {
   "cell_type": "markdown",
   "id": "dbdd0e76-5dd3-4eb8-b3f4-3d359ff7e357",
   "metadata": {},
   "source": [
    "### 27. Splitting Arrays"
   ]
  },
  {
   "cell_type": "code",
   "execution_count": 112,
   "id": "246e11e5-0dd3-4dd7-9b86-512f8c81e1c5",
   "metadata": {},
   "outputs": [
    {
     "name": "stdout",
     "output_type": "stream",
     "text": [
      "[[2 4 3 5]\n",
      " [2 3 3 8]\n",
      " [4 5 2 7]\n",
      " [8 2 1 1]]\n"
     ]
    }
   ],
   "source": [
    "arr = np.random.randint(1,10,(4,4))\n",
    "\n",
    "print(arr)"
   ]
  },
  {
   "cell_type": "markdown",
   "id": "d4cb0b77-c5c6-4167-818e-0839ceac55f8",
   "metadata": {},
   "source": [
    "numpy.vsplit() function split an array into multiple sub-arrays vertically (row-wise). vsplit is equivalent to split with axis=0 (default), the array is always split along the first axis regardless of the array dimension."
   ]
  },
  {
   "cell_type": "code",
   "execution_count": 113,
   "id": "c74ca4cf-1d71-4403-8f64-4da0debcefed",
   "metadata": {},
   "outputs": [
    {
     "data": {
      "text/plain": [
       "[array([[2, 4, 3, 5],\n",
       "        [2, 3, 3, 8]]),\n",
       " array([[4, 5, 2, 7],\n",
       "        [8, 2, 1, 1]])]"
      ]
     },
     "execution_count": 113,
     "metadata": {},
     "output_type": "execute_result"
    }
   ],
   "source": [
    "np.vsplit(arr, 2)"
   ]
  },
  {
   "cell_type": "markdown",
   "id": "98fcc106-a568-4b6d-9d07-298175382e37",
   "metadata": {},
   "source": [
    "numpy.hsplit() function split an array into multiple sub-arrays horizontally (column-wise). hsplit is equivalent to split with axis=1, the array is always split along the second axis regardless of the array dimension."
   ]
  },
  {
   "cell_type": "code",
   "execution_count": 114,
   "id": "bb0b3f63-e8f4-49d8-9e9b-efc5407cc18a",
   "metadata": {},
   "outputs": [
    {
     "data": {
      "text/plain": [
       "[array([[2, 4],\n",
       "        [2, 3],\n",
       "        [4, 5],\n",
       "        [8, 2]]),\n",
       " array([[3, 5],\n",
       "        [3, 8],\n",
       "        [2, 7],\n",
       "        [1, 1]])]"
      ]
     },
     "execution_count": 114,
     "metadata": {},
     "output_type": "execute_result"
    }
   ],
   "source": [
    "np.hsplit(arr, 2)"
   ]
  },
  {
   "cell_type": "markdown",
   "id": "12a04ae4-37f4-4709-ba92-3ce2f1ddcb34",
   "metadata": {},
   "source": [
    "### 28. Turning Pics into Numpy arrays"
   ]
  },
  {
   "cell_type": "code",
   "execution_count": 121,
   "id": "2c31f20a-2a65-4338-aee0-3b64d0334f92",
   "metadata": {},
   "outputs": [
    {
     "data": {
      "text/plain": [
       "(607, 1000, 3)"
      ]
     },
     "execution_count": 121,
     "metadata": {},
     "output_type": "execute_result"
    }
   ],
   "source": [
    "from matplotlib.image import imread\n",
    "\n",
    "img = imread('Datasets/GFG.png')\n",
    "\n",
    "img.shape\n",
    "\n",
    "# the output tells us (pixels vertically , pixels in width , 3 refers to the rgb)"
   ]
  },
  {
   "cell_type": "code",
   "execution_count": 122,
   "id": "104bab3c-3af9-4fb7-951c-6c517b73496f",
   "metadata": {},
   "outputs": [
    {
     "data": {
      "text/plain": [
       "np.float32(1.0)"
      ]
     },
     "execution_count": 122,
     "metadata": {},
     "output_type": "execute_result"
    }
   ],
   "source": [
    "np.max(img) # tell the maximum. 1 refers to pure white colour"
   ]
  },
  {
   "cell_type": "code",
   "execution_count": 123,
   "id": "0b94aa2d-ba79-40a6-8b0e-a235954a39f0",
   "metadata": {},
   "outputs": [
    {
     "data": {
      "text/plain": [
       "np.float32(0.05882353)"
      ]
     },
     "execution_count": 123,
     "metadata": {},
     "output_type": "execute_result"
    }
   ],
   "source": [
    "np.min(img) # tells the min. 0 refers to black colour"
   ]
  },
  {
   "cell_type": "code",
   "execution_count": null,
   "id": "2e1193fa-f2f9-495e-b3c5-be37941b86ed",
   "metadata": {},
   "outputs": [],
   "source": []
  }
 ],
 "metadata": {
  "kernelspec": {
   "display_name": "Python [conda env:base] *",
   "language": "python",
   "name": "conda-base-py"
  },
  "language_info": {
   "codemirror_mode": {
    "name": "ipython",
    "version": 3
   },
   "file_extension": ".py",
   "mimetype": "text/x-python",
   "name": "python",
   "nbconvert_exporter": "python",
   "pygments_lexer": "ipython3",
   "version": "3.13.5"
  }
 },
 "nbformat": 4,
 "nbformat_minor": 5
}
