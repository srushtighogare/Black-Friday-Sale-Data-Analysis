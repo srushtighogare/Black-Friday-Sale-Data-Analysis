{
 "cells": [
  {
   "cell_type": "markdown",
   "id": "049a2696-bf08-4566-9732-b81c86e7f338",
   "metadata": {},
   "source": [
    "### To list down the files in directory\n",
    "\""
   ]
  },
  {
   "cell_type": "markdown",
   "id": "6cc16089-cb23-4bdd-b104-731d358a1004",
   "metadata": {},
   "source": [
    "!ls"
   ]
  },
  {
   "cell_type": "markdown",
   "id": "cfc02c27-ce80-4f86-8d7b-16bdd3cbba51",
   "metadata": {},
   "source": [
    "### Here we create. a file using write"
   ]
  },
  {
   "cell_type": "markdown",
   "id": "40a9381d-71ac-4a44-b395-ee082de8dba6",
   "metadata": {},
   "source": [
    "fd = open(\"Datawritten.txt\" ,\"w\")\n",
    "\n",
    "fd.close()"
   ]
  },
  {
   "cell_type": "markdown",
   "id": "971dd10a-3c77-4555-89a2-1e3c318f6ec3",
   "metadata": {},
   "source": [
    "!ls"
   ]
  },
  {
   "cell_type": "markdown",
   "id": "ae23306b-c5bc-4afe-aad8-d61d6321ec9a",
   "metadata": {},
   "source": [
    "### To write data in the file"
   ]
  },
  {
   "cell_type": "markdown",
   "id": "e6d505a7-870d-4dbd-b43d-bd1345ec6eb9",
   "metadata": {},
   "source": [
    "fd = open(\"Datawritten.txt\" ,\"w\")\n",
    "fd.write(\" hello my name is srushti. This is my file to write\")\n",
    "fd.close()"
   ]
  },
  {
   "cell_type": "markdown",
   "id": "c01b019c-24e3-4e39-a7e5-ddf96108809b",
   "metadata": {},
   "source": [
    "### Take input from user and add text to next line"
   ]
  },
  {
   "cell_type": "code",
   "execution_count": 7,
   "id": "e9528601-11d6-45f5-bea0-9d94e25ff188",
   "metadata": {},
   "outputs": [
    {
     "name": "stdin",
     "output_type": "stream",
     "text": [
      "Enter text: Hello Srushti Here . How are you\n"
     ]
    }
   ],
   "source": [
    "fd = open(\"Datawritten.txt\" , \"a\")\n",
    "txt = input(\"Enter text:\")\n",
    "txt = txt + \".\\n\"\n",
    "fd.write(txt)\n",
    "fd.close()"
   ]
  },
  {
   "cell_type": "code",
   "execution_count": null,
   "id": "34aa9862-d8aa-4cc8-8c42-720e7239630b",
   "metadata": {},
   "outputs": [],
   "source": []
  }
 ],
 "metadata": {
  "kernelspec": {
   "display_name": "Python [conda env:base] *",
   "language": "python",
   "name": "conda-base-py"
  },
  "language_info": {
   "codemirror_mode": {
    "name": "ipython",
    "version": 3
   },
   "file_extension": ".py",
   "mimetype": "text/x-python",
   "name": "python",
   "nbconvert_exporter": "python",
   "pygments_lexer": "ipython3",
   "version": "3.13.5"
  }
 },
 "nbformat": 4,
 "nbformat_minor": 5
}
