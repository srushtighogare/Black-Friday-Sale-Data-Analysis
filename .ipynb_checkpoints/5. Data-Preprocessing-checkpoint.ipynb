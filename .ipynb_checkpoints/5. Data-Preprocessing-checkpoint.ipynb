{
 "cells": [
  {
   "cell_type": "code",
   "execution_count": 5,
   "id": "fb8cda82-a7a5-4a51-884b-aa776491c7da",
   "metadata": {},
   "outputs": [],
   "source": [
    "import pandas as pd\n"
   ]
  },
  {
   "cell_type": "code",
   "execution_count": 6,
   "id": "5fd42a2e-0012-4e22-bbe1-46fd8123dbf5",
   "metadata": {},
   "outputs": [],
   "source": [
    "data = pd.read_csv(\"Datasets/googleplaystore.csv\").dropna()"
   ]
  },
  {
   "cell_type": "code",
   "execution_count": 7,
   "id": "37785326-ed78-44a3-acbc-61a79c7cea5a",
   "metadata": {},
   "outputs": [
    {
     "data": {
      "text/html": [
       "<div>\n",
       "<style scoped>\n",
       "    .dataframe tbody tr th:only-of-type {\n",
       "        vertical-align: middle;\n",
       "    }\n",
       "\n",
       "    .dataframe tbody tr th {\n",
       "        vertical-align: top;\n",
       "    }\n",
       "\n",
       "    .dataframe thead th {\n",
       "        text-align: right;\n",
       "    }\n",
       "</style>\n",
       "<table border=\"1\" class=\"dataframe\">\n",
       "  <thead>\n",
       "    <tr style=\"text-align: right;\">\n",
       "      <th></th>\n",
       "      <th>App</th>\n",
       "      <th>Category</th>\n",
       "      <th>Rating</th>\n",
       "      <th>Reviews</th>\n",
       "      <th>Size</th>\n",
       "      <th>Installs</th>\n",
       "      <th>Type</th>\n",
       "      <th>Price</th>\n",
       "      <th>Content Rating</th>\n",
       "      <th>Genres</th>\n",
       "      <th>Last Updated</th>\n",
       "      <th>Current Ver</th>\n",
       "      <th>Android Ver</th>\n",
       "    </tr>\n",
       "  </thead>\n",
       "  <tbody>\n",
       "    <tr>\n",
       "      <th>0</th>\n",
       "      <td>Photo Editor &amp; Candy Camera &amp; Grid &amp; ScrapBook</td>\n",
       "      <td>ART_AND_DESIGN</td>\n",
       "      <td>4.1</td>\n",
       "      <td>159</td>\n",
       "      <td>19M</td>\n",
       "      <td>10,000+</td>\n",
       "      <td>Free</td>\n",
       "      <td>0</td>\n",
       "      <td>Everyone</td>\n",
       "      <td>Art &amp; Design</td>\n",
       "      <td>January 7, 2018</td>\n",
       "      <td>1.0.0</td>\n",
       "      <td>4.0.3 and up</td>\n",
       "    </tr>\n",
       "    <tr>\n",
       "      <th>1</th>\n",
       "      <td>Coloring book moana</td>\n",
       "      <td>ART_AND_DESIGN</td>\n",
       "      <td>3.9</td>\n",
       "      <td>967</td>\n",
       "      <td>14M</td>\n",
       "      <td>500,000+</td>\n",
       "      <td>Free</td>\n",
       "      <td>0</td>\n",
       "      <td>Everyone</td>\n",
       "      <td>Art &amp; Design;Pretend Play</td>\n",
       "      <td>January 15, 2018</td>\n",
       "      <td>2.0.0</td>\n",
       "      <td>4.0.3 and up</td>\n",
       "    </tr>\n",
       "    <tr>\n",
       "      <th>2</th>\n",
       "      <td>U Launcher Lite – FREE Live Cool Themes, Hide ...</td>\n",
       "      <td>ART_AND_DESIGN</td>\n",
       "      <td>4.7</td>\n",
       "      <td>87510</td>\n",
       "      <td>8.7M</td>\n",
       "      <td>5,000,000+</td>\n",
       "      <td>Free</td>\n",
       "      <td>0</td>\n",
       "      <td>Everyone</td>\n",
       "      <td>Art &amp; Design</td>\n",
       "      <td>August 1, 2018</td>\n",
       "      <td>1.2.4</td>\n",
       "      <td>4.0.3 and up</td>\n",
       "    </tr>\n",
       "    <tr>\n",
       "      <th>3</th>\n",
       "      <td>Sketch - Draw &amp; Paint</td>\n",
       "      <td>ART_AND_DESIGN</td>\n",
       "      <td>4.5</td>\n",
       "      <td>215644</td>\n",
       "      <td>25M</td>\n",
       "      <td>50,000,000+</td>\n",
       "      <td>Free</td>\n",
       "      <td>0</td>\n",
       "      <td>Teen</td>\n",
       "      <td>Art &amp; Design</td>\n",
       "      <td>June 8, 2018</td>\n",
       "      <td>Varies with device</td>\n",
       "      <td>4.2 and up</td>\n",
       "    </tr>\n",
       "    <tr>\n",
       "      <th>4</th>\n",
       "      <td>Pixel Draw - Number Art Coloring Book</td>\n",
       "      <td>ART_AND_DESIGN</td>\n",
       "      <td>4.3</td>\n",
       "      <td>967</td>\n",
       "      <td>2.8M</td>\n",
       "      <td>100,000+</td>\n",
       "      <td>Free</td>\n",
       "      <td>0</td>\n",
       "      <td>Everyone</td>\n",
       "      <td>Art &amp; Design;Creativity</td>\n",
       "      <td>June 20, 2018</td>\n",
       "      <td>1.1</td>\n",
       "      <td>4.4 and up</td>\n",
       "    </tr>\n",
       "    <tr>\n",
       "      <th>...</th>\n",
       "      <td>...</td>\n",
       "      <td>...</td>\n",
       "      <td>...</td>\n",
       "      <td>...</td>\n",
       "      <td>...</td>\n",
       "      <td>...</td>\n",
       "      <td>...</td>\n",
       "      <td>...</td>\n",
       "      <td>...</td>\n",
       "      <td>...</td>\n",
       "      <td>...</td>\n",
       "      <td>...</td>\n",
       "      <td>...</td>\n",
       "    </tr>\n",
       "    <tr>\n",
       "      <th>10834</th>\n",
       "      <td>FR Calculator</td>\n",
       "      <td>FAMILY</td>\n",
       "      <td>4.0</td>\n",
       "      <td>7</td>\n",
       "      <td>2.6M</td>\n",
       "      <td>500+</td>\n",
       "      <td>Free</td>\n",
       "      <td>0</td>\n",
       "      <td>Everyone</td>\n",
       "      <td>Education</td>\n",
       "      <td>June 18, 2017</td>\n",
       "      <td>1.0.0</td>\n",
       "      <td>4.1 and up</td>\n",
       "    </tr>\n",
       "    <tr>\n",
       "      <th>10836</th>\n",
       "      <td>Sya9a Maroc - FR</td>\n",
       "      <td>FAMILY</td>\n",
       "      <td>4.5</td>\n",
       "      <td>38</td>\n",
       "      <td>53M</td>\n",
       "      <td>5,000+</td>\n",
       "      <td>Free</td>\n",
       "      <td>0</td>\n",
       "      <td>Everyone</td>\n",
       "      <td>Education</td>\n",
       "      <td>July 25, 2017</td>\n",
       "      <td>1.48</td>\n",
       "      <td>4.1 and up</td>\n",
       "    </tr>\n",
       "    <tr>\n",
       "      <th>10837</th>\n",
       "      <td>Fr. Mike Schmitz Audio Teachings</td>\n",
       "      <td>FAMILY</td>\n",
       "      <td>5.0</td>\n",
       "      <td>4</td>\n",
       "      <td>3.6M</td>\n",
       "      <td>100+</td>\n",
       "      <td>Free</td>\n",
       "      <td>0</td>\n",
       "      <td>Everyone</td>\n",
       "      <td>Education</td>\n",
       "      <td>July 6, 2018</td>\n",
       "      <td>1.0</td>\n",
       "      <td>4.1 and up</td>\n",
       "    </tr>\n",
       "    <tr>\n",
       "      <th>10839</th>\n",
       "      <td>The SCP Foundation DB fr nn5n</td>\n",
       "      <td>BOOKS_AND_REFERENCE</td>\n",
       "      <td>4.5</td>\n",
       "      <td>114</td>\n",
       "      <td>Varies with device</td>\n",
       "      <td>1,000+</td>\n",
       "      <td>Free</td>\n",
       "      <td>0</td>\n",
       "      <td>Mature 17+</td>\n",
       "      <td>Books &amp; Reference</td>\n",
       "      <td>January 19, 2015</td>\n",
       "      <td>Varies with device</td>\n",
       "      <td>Varies with device</td>\n",
       "    </tr>\n",
       "    <tr>\n",
       "      <th>10840</th>\n",
       "      <td>iHoroscope - 2018 Daily Horoscope &amp; Astrology</td>\n",
       "      <td>LIFESTYLE</td>\n",
       "      <td>4.5</td>\n",
       "      <td>398307</td>\n",
       "      <td>19M</td>\n",
       "      <td>10,000,000+</td>\n",
       "      <td>Free</td>\n",
       "      <td>0</td>\n",
       "      <td>Everyone</td>\n",
       "      <td>Lifestyle</td>\n",
       "      <td>July 25, 2018</td>\n",
       "      <td>Varies with device</td>\n",
       "      <td>Varies with device</td>\n",
       "    </tr>\n",
       "  </tbody>\n",
       "</table>\n",
       "<p>9360 rows × 13 columns</p>\n",
       "</div>"
      ],
      "text/plain": [
       "                                                     App             Category  \\\n",
       "0         Photo Editor & Candy Camera & Grid & ScrapBook       ART_AND_DESIGN   \n",
       "1                                    Coloring book moana       ART_AND_DESIGN   \n",
       "2      U Launcher Lite – FREE Live Cool Themes, Hide ...       ART_AND_DESIGN   \n",
       "3                                  Sketch - Draw & Paint       ART_AND_DESIGN   \n",
       "4                  Pixel Draw - Number Art Coloring Book       ART_AND_DESIGN   \n",
       "...                                                  ...                  ...   \n",
       "10834                                      FR Calculator               FAMILY   \n",
       "10836                                   Sya9a Maroc - FR               FAMILY   \n",
       "10837                   Fr. Mike Schmitz Audio Teachings               FAMILY   \n",
       "10839                      The SCP Foundation DB fr nn5n  BOOKS_AND_REFERENCE   \n",
       "10840      iHoroscope - 2018 Daily Horoscope & Astrology            LIFESTYLE   \n",
       "\n",
       "       Rating Reviews                Size     Installs  Type Price  \\\n",
       "0         4.1     159                 19M      10,000+  Free     0   \n",
       "1         3.9     967                 14M     500,000+  Free     0   \n",
       "2         4.7   87510                8.7M   5,000,000+  Free     0   \n",
       "3         4.5  215644                 25M  50,000,000+  Free     0   \n",
       "4         4.3     967                2.8M     100,000+  Free     0   \n",
       "...       ...     ...                 ...          ...   ...   ...   \n",
       "10834     4.0       7                2.6M         500+  Free     0   \n",
       "10836     4.5      38                 53M       5,000+  Free     0   \n",
       "10837     5.0       4                3.6M         100+  Free     0   \n",
       "10839     4.5     114  Varies with device       1,000+  Free     0   \n",
       "10840     4.5  398307                 19M  10,000,000+  Free     0   \n",
       "\n",
       "      Content Rating                     Genres      Last Updated  \\\n",
       "0           Everyone               Art & Design   January 7, 2018   \n",
       "1           Everyone  Art & Design;Pretend Play  January 15, 2018   \n",
       "2           Everyone               Art & Design    August 1, 2018   \n",
       "3               Teen               Art & Design      June 8, 2018   \n",
       "4           Everyone    Art & Design;Creativity     June 20, 2018   \n",
       "...              ...                        ...               ...   \n",
       "10834       Everyone                  Education     June 18, 2017   \n",
       "10836       Everyone                  Education     July 25, 2017   \n",
       "10837       Everyone                  Education      July 6, 2018   \n",
       "10839     Mature 17+          Books & Reference  January 19, 2015   \n",
       "10840       Everyone                  Lifestyle     July 25, 2018   \n",
       "\n",
       "              Current Ver         Android Ver  \n",
       "0                   1.0.0        4.0.3 and up  \n",
       "1                   2.0.0        4.0.3 and up  \n",
       "2                   1.2.4        4.0.3 and up  \n",
       "3      Varies with device          4.2 and up  \n",
       "4                     1.1          4.4 and up  \n",
       "...                   ...                 ...  \n",
       "10834               1.0.0          4.1 and up  \n",
       "10836                1.48          4.1 and up  \n",
       "10837                 1.0          4.1 and up  \n",
       "10839  Varies with device  Varies with device  \n",
       "10840  Varies with device  Varies with device  \n",
       "\n",
       "[9360 rows x 13 columns]"
      ]
     },
     "execution_count": 7,
     "metadata": {},
     "output_type": "execute_result"
    }
   ],
   "source": [
    "data\n"
   ]
  },
  {
   "cell_type": "code",
   "execution_count": null,
   "id": "71e330fe-5cdf-40f4-9342-b210559146e6",
   "metadata": {},
   "outputs": [],
   "source": []
  },
  {
   "cell_type": "code",
   "execution_count": null,
   "id": "cb3115ee-e550-42db-9f44-dd9884c73dfa",
   "metadata": {},
   "outputs": [],
   "source": []
  },
  {
   "cell_type": "markdown",
   "id": "65ca384c-f771-4cef-a02a-5c697ac624ef",
   "metadata": {},
   "source": [
    "## Q1 Finding the Average Rating\n",
    "\n"
   ]
  },
  {
   "cell_type": "code",
   "execution_count": 8,
   "id": "fc29fcc4-77e4-4637-99e2-7989a8c2a487",
   "metadata": {},
   "outputs": [
    {
     "data": {
      "text/plain": [
       "0        4.1\n",
       "1        3.9\n",
       "2        4.7\n",
       "3        4.5\n",
       "4        4.3\n",
       "        ... \n",
       "10834    4.0\n",
       "10836    4.5\n",
       "10837    5.0\n",
       "10839    4.5\n",
       "10840    4.5\n",
       "Name: Rating, Length: 9360, dtype: float64"
      ]
     },
     "execution_count": 8,
     "metadata": {},
     "output_type": "execute_result"
    }
   ],
   "source": [
    "data[\"Rating\"]"
   ]
  },
  {
   "cell_type": "code",
   "execution_count": 9,
   "id": "4d9c7df1-19ca-42fd-b9a8-a7473a12cfbf",
   "metadata": {},
   "outputs": [
    {
     "data": {
      "text/plain": [
       "39235"
      ]
     },
     "execution_count": 9,
     "metadata": {},
     "output_type": "execute_result"
    }
   ],
   "source": [
    "int(sum(data['Rating']))"
   ]
  },
  {
   "cell_type": "code",
   "execution_count": 10,
   "id": "2ced5732-1c73-459e-a5b3-85aed9d47fa5",
   "metadata": {},
   "outputs": [
    {
     "name": "stdout",
     "output_type": "stream",
     "text": [
      "Average Rating of the Apps is 4.19\n"
     ]
    }
   ],
   "source": [
    "# int(sum(data['Rating']))/9360\n",
    "# can covert it to a string and slice it\n",
    "# (str(int(sum(data['Rating']))/9360) [:4]) #to get only first 4 elements\n",
    "#again convert to float after slicing\n",
    "print(\"Average Rating of the Apps is\" , float(str(int(sum(data['Rating']))/len(data['Rating'])) [:4] ))\n"
   ]
  },
  {
   "cell_type": "code",
   "execution_count": 11,
   "id": "6a2ec764-dc89-4879-81ce-d986710ac37a",
   "metadata": {},
   "outputs": [
    {
     "name": "stdout",
     "output_type": "stream",
     "text": [
      "4.191773504273504\n"
     ]
    }
   ],
   "source": [
    "# can be done using fo loop\n",
    "s = 0\n",
    "for i in data ['Rating']:\n",
    "    s+=i\n",
    "s= int(s)\n",
    "print((s/len(data['Rating'])))\n",
    "\n"
   ]
  },
  {
   "cell_type": "code",
   "execution_count": 12,
   "id": "b475cd8c-1a8d-45b1-98cb-b06e0d28950c",
   "metadata": {},
   "outputs": [
    {
     "data": {
      "text/plain": [
       "9360"
      ]
     },
     "execution_count": 12,
     "metadata": {},
     "output_type": "execute_result"
    }
   ],
   "source": [
    "len(data['Rating'])"
   ]
  },
  {
   "cell_type": "markdown",
   "id": "d3f34b9f-211e-41b4-87f3-d44f1b1165e7",
   "metadata": {},
   "source": [
    "## Q2 How many apps are there with rating 5"
   ]
  },
  {
   "cell_type": "code",
   "execution_count": 13,
   "id": "f6472bfe-ecc4-4d2c-bf95-4537b3be4c7f",
   "metadata": {},
   "outputs": [
    {
     "name": "stdout",
     "output_type": "stream",
     "text": [
      "Applications with rating 5: 274\n"
     ]
    }
   ],
   "source": [
    "count = 0\n",
    "for i in data['Rating']:\n",
    "    if (i == 5.0):\n",
    "        count+=1\n",
    "print(\"Applications with rating 5:\",count)\n",
    "    "
   ]
  },
  {
   "cell_type": "markdown",
   "id": "bff9bae0-eee5-443b-8854-a2ad7bd88eed",
   "metadata": {},
   "source": [
    "## Apps in between range "
   ]
  },
  {
   "cell_type": "code",
   "execution_count": 14,
   "id": "65ac88d4-72e9-4cc2-b7fa-71adbef74427",
   "metadata": {},
   "outputs": [
    {
     "name": "stdout",
     "output_type": "stream",
     "text": [
      "The apps in between 4.0 and 4.5 are : 5446\n"
     ]
    }
   ],
   "source": [
    "\n",
    "c = 0 \n",
    "for i in data['Rating']:\n",
    "    if (i>=4.0 and i <= 4.5):\n",
    "        c+=1\n",
    "print(\"The apps in between 4.0 and 4.5 are :\",c)"
   ]
  },
  {
   "cell_type": "markdown",
   "id": "43787d8a-93a2-4e93-83e1-675dbd7edb08",
   "metadata": {},
   "source": [
    "## Average app reviews"
   ]
  },
  {
   "cell_type": "code",
   "execution_count": 15,
   "id": "832842b9-adb1-439b-990c-e2fa1ce95e31",
   "metadata": {},
   "outputs": [
    {
     "name": "stdout",
     "output_type": "stream",
     "text": [
      "514376\n"
     ]
    }
   ],
   "source": [
    "#for reviews average\n",
    "a = 0\n",
    "for i in data['Reviews']:\n",
    "    a+= int(i)\n",
    "\n",
    "print(int(a/len(data['Reviews'])))"
   ]
  },
  {
   "cell_type": "markdown",
   "id": "35ccc4cf-fbe9-4ee3-9e0d-8197e1265046",
   "metadata": {},
   "source": [
    "## to find reviews for a particular threshhold"
   ]
  },
  {
   "cell_type": "code",
   "execution_count": 16,
   "id": "ab8bc30f-9c7f-4064-81dc-f96da1431898",
   "metadata": {},
   "outputs": [
    {
     "name": "stdout",
     "output_type": "stream",
     "text": [
      "7425\n"
     ]
    }
   ],
   "source": [
    "c = 0\n",
    "for i in data['Reviews']:\n",
    "    if int(i)>100:\n",
    "        c+=1\n",
    "print(c)"
   ]
  },
  {
   "cell_type": "markdown",
   "id": "fd872274-d6eb-436e-bc7e-7b58699ff13f",
   "metadata": {},
   "source": [
    "# Categorial data analysis"
   ]
  },
  {
   "cell_type": "code",
   "execution_count": 17,
   "id": "019ad3e2-e5c8-45bf-9396-974ddf17c16f",
   "metadata": {},
   "outputs": [
    {
     "data": {
      "text/html": [
       "<div>\n",
       "<style scoped>\n",
       "    .dataframe tbody tr th:only-of-type {\n",
       "        vertical-align: middle;\n",
       "    }\n",
       "\n",
       "    .dataframe tbody tr th {\n",
       "        vertical-align: top;\n",
       "    }\n",
       "\n",
       "    .dataframe thead th {\n",
       "        text-align: right;\n",
       "    }\n",
       "</style>\n",
       "<table border=\"1\" class=\"dataframe\">\n",
       "  <thead>\n",
       "    <tr style=\"text-align: right;\">\n",
       "      <th></th>\n",
       "      <th>App</th>\n",
       "      <th>Category</th>\n",
       "      <th>Rating</th>\n",
       "      <th>Reviews</th>\n",
       "      <th>Size</th>\n",
       "      <th>Installs</th>\n",
       "      <th>Type</th>\n",
       "      <th>Price</th>\n",
       "      <th>Content Rating</th>\n",
       "      <th>Genres</th>\n",
       "      <th>Last Updated</th>\n",
       "      <th>Current Ver</th>\n",
       "      <th>Android Ver</th>\n",
       "    </tr>\n",
       "  </thead>\n",
       "  <tbody>\n",
       "    <tr>\n",
       "      <th>0</th>\n",
       "      <td>Photo Editor &amp; Candy Camera &amp; Grid &amp; ScrapBook</td>\n",
       "      <td>ART_AND_DESIGN</td>\n",
       "      <td>4.1</td>\n",
       "      <td>159</td>\n",
       "      <td>19M</td>\n",
       "      <td>10,000+</td>\n",
       "      <td>Free</td>\n",
       "      <td>0</td>\n",
       "      <td>Everyone</td>\n",
       "      <td>Art &amp; Design</td>\n",
       "      <td>January 7, 2018</td>\n",
       "      <td>1.0.0</td>\n",
       "      <td>4.0.3 and up</td>\n",
       "    </tr>\n",
       "    <tr>\n",
       "      <th>1</th>\n",
       "      <td>Coloring book moana</td>\n",
       "      <td>ART_AND_DESIGN</td>\n",
       "      <td>3.9</td>\n",
       "      <td>967</td>\n",
       "      <td>14M</td>\n",
       "      <td>500,000+</td>\n",
       "      <td>Free</td>\n",
       "      <td>0</td>\n",
       "      <td>Everyone</td>\n",
       "      <td>Art &amp; Design;Pretend Play</td>\n",
       "      <td>January 15, 2018</td>\n",
       "      <td>2.0.0</td>\n",
       "      <td>4.0.3 and up</td>\n",
       "    </tr>\n",
       "    <tr>\n",
       "      <th>2</th>\n",
       "      <td>U Launcher Lite – FREE Live Cool Themes, Hide ...</td>\n",
       "      <td>ART_AND_DESIGN</td>\n",
       "      <td>4.7</td>\n",
       "      <td>87510</td>\n",
       "      <td>8.7M</td>\n",
       "      <td>5,000,000+</td>\n",
       "      <td>Free</td>\n",
       "      <td>0</td>\n",
       "      <td>Everyone</td>\n",
       "      <td>Art &amp; Design</td>\n",
       "      <td>August 1, 2018</td>\n",
       "      <td>1.2.4</td>\n",
       "      <td>4.0.3 and up</td>\n",
       "    </tr>\n",
       "    <tr>\n",
       "      <th>3</th>\n",
       "      <td>Sketch - Draw &amp; Paint</td>\n",
       "      <td>ART_AND_DESIGN</td>\n",
       "      <td>4.5</td>\n",
       "      <td>215644</td>\n",
       "      <td>25M</td>\n",
       "      <td>50,000,000+</td>\n",
       "      <td>Free</td>\n",
       "      <td>0</td>\n",
       "      <td>Teen</td>\n",
       "      <td>Art &amp; Design</td>\n",
       "      <td>June 8, 2018</td>\n",
       "      <td>Varies with device</td>\n",
       "      <td>4.2 and up</td>\n",
       "    </tr>\n",
       "    <tr>\n",
       "      <th>4</th>\n",
       "      <td>Pixel Draw - Number Art Coloring Book</td>\n",
       "      <td>ART_AND_DESIGN</td>\n",
       "      <td>4.3</td>\n",
       "      <td>967</td>\n",
       "      <td>2.8M</td>\n",
       "      <td>100,000+</td>\n",
       "      <td>Free</td>\n",
       "      <td>0</td>\n",
       "      <td>Everyone</td>\n",
       "      <td>Art &amp; Design;Creativity</td>\n",
       "      <td>June 20, 2018</td>\n",
       "      <td>1.1</td>\n",
       "      <td>4.4 and up</td>\n",
       "    </tr>\n",
       "  </tbody>\n",
       "</table>\n",
       "</div>"
      ],
      "text/plain": [
       "                                                 App        Category  Rating  \\\n",
       "0     Photo Editor & Candy Camera & Grid & ScrapBook  ART_AND_DESIGN     4.1   \n",
       "1                                Coloring book moana  ART_AND_DESIGN     3.9   \n",
       "2  U Launcher Lite – FREE Live Cool Themes, Hide ...  ART_AND_DESIGN     4.7   \n",
       "3                              Sketch - Draw & Paint  ART_AND_DESIGN     4.5   \n",
       "4              Pixel Draw - Number Art Coloring Book  ART_AND_DESIGN     4.3   \n",
       "\n",
       "  Reviews  Size     Installs  Type Price Content Rating  \\\n",
       "0     159   19M      10,000+  Free     0       Everyone   \n",
       "1     967   14M     500,000+  Free     0       Everyone   \n",
       "2   87510  8.7M   5,000,000+  Free     0       Everyone   \n",
       "3  215644   25M  50,000,000+  Free     0           Teen   \n",
       "4     967  2.8M     100,000+  Free     0       Everyone   \n",
       "\n",
       "                      Genres      Last Updated         Current Ver  \\\n",
       "0               Art & Design   January 7, 2018               1.0.0   \n",
       "1  Art & Design;Pretend Play  January 15, 2018               2.0.0   \n",
       "2               Art & Design    August 1, 2018               1.2.4   \n",
       "3               Art & Design      June 8, 2018  Varies with device   \n",
       "4    Art & Design;Creativity     June 20, 2018                 1.1   \n",
       "\n",
       "    Android Ver  \n",
       "0  4.0.3 and up  \n",
       "1  4.0.3 and up  \n",
       "2  4.0.3 and up  \n",
       "3    4.2 and up  \n",
       "4    4.4 and up  "
      ]
     },
     "execution_count": 17,
     "metadata": {},
     "output_type": "execute_result"
    }
   ],
   "source": [
    " data.head()"
   ]
  },
  {
   "cell_type": "markdown",
   "id": "798e8c2f-ab9c-45c1-91dd-b5e9952c0b11",
   "metadata": {},
   "source": [
    "## Total no of each category"
   ]
  },
  {
   "cell_type": "code",
   "execution_count": 18,
   "id": "0645475f-f7d5-4f5c-93ed-222ada201d98",
   "metadata": {},
   "outputs": [
    {
     "name": "stdout",
     "output_type": "stream",
     "text": [
      "ART_AND_DESIGN\n",
      "14\n",
      "AUTO_AND_VEHICLES\n",
      "17\n",
      "BEAUTY\n",
      "6\n",
      "BOOKS_AND_REFERENCE\n",
      "19\n",
      "BUSINESS\n",
      "8\n",
      "COMICS\n",
      "6\n",
      "COMMUNICATION\n",
      "13\n",
      "DATING\n",
      "6\n",
      "EDUCATION\n",
      "9\n",
      "ENTERTAINMENT\n",
      "13\n",
      "EVENTS\n",
      "6\n",
      "FINANCE\n",
      "7\n",
      "FOOD_AND_DRINK\n",
      "14\n",
      "HEALTH_AND_FITNESS\n",
      "18\n",
      "HOUSE_AND_HOME\n",
      "14\n",
      "LIBRARIES_AND_DEMO\n",
      "18\n",
      "LIFESTYLE\n",
      "9\n",
      "GAME\n",
      "4\n",
      "FAMILY\n",
      "6\n",
      "MEDICAL\n",
      "7\n",
      "SOCIAL\n",
      "6\n",
      "SHOPPING\n",
      "8\n",
      "PHOTOGRAPHY\n",
      "11\n",
      "SPORTS\n",
      "6\n",
      "TRAVEL_AND_LOCAL\n",
      "16\n",
      "TOOLS\n",
      "5\n",
      "PERSONALIZATION\n",
      "15\n",
      "PRODUCTIVITY\n",
      "12\n",
      "PARENTING\n",
      "9\n",
      "WEATHER\n",
      "7\n",
      "VIDEO_PLAYERS\n",
      "13\n",
      "NEWS_AND_MAGAZINES\n",
      "18\n",
      "MAPS_AND_NAVIGATION\n",
      "19\n",
      "Total categories are: 33\n"
     ]
    }
   ],
   "source": [
    "# data['Category']\n",
    "#how many categories \n",
    "for i in data['Category'].unique():\n",
    "\n",
    "    print(i)\n",
    "    print(len(i))\n",
    "\n",
    "print(\"Total categories are:\",len(data['Category'].unique()))\n",
    "    \n",
    "     \n"
   ]
  },
  {
   "cell_type": "markdown",
   "id": "e18167f9-e0b5-4073-bb5f-4302eb732818",
   "metadata": {},
   "source": [
    "## Q1 To find total apps in Art and design"
   ]
  },
  {
   "cell_type": "code",
   "execution_count": 19,
   "id": "44f0edfa-1e93-4ba4-910a-8378d5296e86",
   "metadata": {},
   "outputs": [
    {
     "name": "stdout",
     "output_type": "stream",
     "text": [
      "Total apps in art and design are: 61\n"
     ]
    }
   ],
   "source": [
    "c = 0\n",
    "for i in data['Category']:\n",
    "    if (i == 'ART_AND_DESIGN'):\n",
    "        c+=1\n",
    "print (\"Total apps in art and design are:\" , c)"
   ]
  },
  {
   "cell_type": "markdown",
   "id": "9ef457fb-8ecf-46bf-a756-faf243a069ea",
   "metadata": {},
   "source": [
    "## Type of apps"
   ]
  },
  {
   "cell_type": "code",
   "execution_count": 20,
   "id": "1ecb2301-1670-4609-8f00-2f78dba1b203",
   "metadata": {},
   "outputs": [
    {
     "data": {
      "text/plain": [
       "array(['Free', 'Paid'], dtype=object)"
      ]
     },
     "execution_count": 20,
     "metadata": {},
     "output_type": "execute_result"
    }
   ],
   "source": [
    "data['Type'].unique()"
   ]
  },
  {
   "cell_type": "markdown",
   "id": "d78ec844-3fd0-47bd-8615-615ef3579e3b",
   "metadata": {},
   "source": [
    "## Count of paid and freee apps"
   ]
  },
  {
   "cell_type": "code",
   "execution_count": 21,
   "id": "c8da12af-cf04-4042-a1ab-5d38076fa752",
   "metadata": {},
   "outputs": [
    {
     "name": "stdout",
     "output_type": "stream",
     "text": [
      "Total apps free are: 8715\n",
      "Total apps paid are: 645\n"
     ]
    }
   ],
   "source": [
    "f = 0\n",
    "for i in data['Type']:\n",
    "    if (i == 'Free'):\n",
    "        f+=1\n",
    "print (\"Total apps free are:\" , f)\n",
    "\n",
    "p = 0\n",
    "for i in data['Type']:\n",
    "    if (i == 'Paid'):\n",
    "        p+=1\n",
    "print (\"Total apps paid are:\" , p)"
   ]
  },
  {
   "cell_type": "code",
   "execution_count": 22,
   "id": "9a007840-be30-4c3b-bba8-0a36e13eac0e",
   "metadata": {},
   "outputs": [
    {
     "data": {
      "text/plain": [
       "8715"
      ]
     },
     "execution_count": 22,
     "metadata": {},
     "output_type": "execute_result"
    }
   ],
   "source": [
    "f"
   ]
  },
  {
   "cell_type": "code",
   "execution_count": 23,
   "id": "e5b1c3b1-1d88-44ff-8e31-ec3370c6ac3d",
   "metadata": {},
   "outputs": [
    {
     "data": {
      "text/plain": [
       "645"
      ]
     },
     "execution_count": 23,
     "metadata": {},
     "output_type": "execute_result"
    }
   ],
   "source": [
    "p"
   ]
  },
  {
   "cell_type": "markdown",
   "id": "113f7f4c-1c04-4986-b83a-fc5f53c7a68c",
   "metadata": {},
   "source": [
    "## To find ration in percentage of paid apps"
   ]
  },
  {
   "cell_type": "code",
   "execution_count": 24,
   "id": "5c32eebb-0e57-4485-abf1-7cdec0ffd14c",
   "metadata": {},
   "outputs": [
    {
     "name": "stdout",
     "output_type": "stream",
     "text": [
      "93  % are free applications\n"
     ]
    }
   ],
   "source": [
    "print(int(f/(f+p)*100) ,\" % are free applications\")"
   ]
  },
  {
   "cell_type": "code",
   "execution_count": 25,
   "id": "94f9462e-2369-4ee5-aedf-1182db03aa14",
   "metadata": {},
   "outputs": [
    {
     "data": {
      "text/plain": [
       "array(['Everyone', 'Teen', 'Everyone 10+', 'Mature 17+',\n",
       "       'Adults only 18+', 'Unrated'], dtype=object)"
      ]
     },
     "execution_count": 25,
     "metadata": {},
     "output_type": "execute_result"
    }
   ],
   "source": [
    "data['Content Rating'].unique()"
   ]
  },
  {
   "cell_type": "markdown",
   "id": "9269487a-3773-4af5-9f9b-8d49e4460d1c",
   "metadata": {},
   "source": [
    "## Name all the content ratings"
   ]
  },
  {
   "cell_type": "code",
   "execution_count": 28,
   "id": "a2e94670-0149-49f9-a255-6c17aff6969e",
   "metadata": {},
   "outputs": [
    {
     "name": "stdout",
     "output_type": "stream",
     "text": [
      "Everyone\n",
      "Teen\n",
      "Everyone 10+\n",
      "Mature 17+\n",
      "Adults only 18+\n",
      "Unrated\n"
     ]
    }
   ],
   "source": [
    "for i in data['Content Rating'].unique():\n",
    "    print(i)\n"
   ]
  },
  {
   "cell_type": "markdown",
   "id": "e7ff3b11-71ab-4fa6-8dad-ff648400b080",
   "metadata": {},
   "source": [
    "## to find apps for each Category\n"
   ]
  },
  {
   "cell_type": "code",
   "execution_count": 44,
   "id": "bdf86834-9f67-4ff6-9ddf-ce8f51f98edd",
   "metadata": {},
   "outputs": [
    {
     "name": "stdout",
     "output_type": "stream",
     "text": [
      "{'ART_AND_DESIGN': 61, 'AUTO_AND_VEHICLES': 73, 'BEAUTY': 42, 'BOOKS_AND_REFERENCE': 178, 'BUSINESS': 303, 'COMICS': 58, 'COMMUNICATION': 328, 'DATING': 195, 'EDUCATION': 155, 'ENTERTAINMENT': 149, 'EVENTS': 45, 'FINANCE': 323, 'FOOD_AND_DRINK': 109, 'HEALTH_AND_FITNESS': 297, 'HOUSE_AND_HOME': 76, 'LIBRARIES_AND_DEMO': 64, 'LIFESTYLE': 314, 'GAME': 1097, 'FAMILY': 1746, 'MEDICAL': 350, 'SOCIAL': 259, 'SHOPPING': 238, 'PHOTOGRAPHY': 317, 'SPORTS': 319, 'TRAVEL_AND_LOCAL': 226, 'TOOLS': 733, 'PERSONALIZATION': 312, 'PRODUCTIVITY': 351, 'PARENTING': 50, 'WEATHER': 75, 'VIDEO_PLAYERS': 160, 'NEWS_AND_MAGAZINES': 233, 'MAPS_AND_NAVIGATION': 124}\n"
     ]
    }
   ],
   "source": [
    "category = {}\n",
    "for name in data['Category'].unique():\n",
    "    ct = 0\n",
    "    for i in data['Category']:\n",
    "        if(i == name):\n",
    "            ct+=1\n",
    "    category[name] = ct\n",
    "print(category)"
   ]
  },
  {
   "cell_type": "markdown",
   "id": "eb917ec1-9ab0-4f88-b439-ee217977cc26",
   "metadata": {},
   "source": [
    "## Apps for each content rating"
   ]
  },
  {
   "cell_type": "code",
   "execution_count": 35,
   "id": "aed955fb-44a7-490f-8fde-a508eaaef76a",
   "metadata": {},
   "outputs": [
    {
     "name": "stdout",
     "output_type": "stream",
     "text": [
      "{'Everyone': 7414, 'Teen': 1084, 'Everyone 10+': 397, 'Mature 17+': 461, 'Adults only 18+': 3, 'Unrated': 1}\n"
     ]
    }
   ],
   "source": [
    "##to store it in a dict\n",
    "content = {}\n",
    "for name in data['Content Rating'].unique():\n",
    "    ct = 0\n",
    "    for i in data['Content Rating']:\n",
    "        if(i == name):\n",
    "            ct+=1\n",
    "    content[name] = ct\n",
    "print(content)"
   ]
  },
  {
   "cell_type": "markdown",
   "id": "2b7cf4ec-2f0d-4b34-b2d3-c5fc27ef0673",
   "metadata": {},
   "source": [
    "## For type of apps"
   ]
  },
  {
   "cell_type": "code",
   "execution_count": 41,
   "id": "701850a7-40d4-4b7a-b830-1539f7975b26",
   "metadata": {},
   "outputs": [
    {
     "name": "stdout",
     "output_type": "stream",
     "text": [
      "{'Free': 8715, 'Paid': 645}\n"
     ]
    }
   ],
   "source": [
    "types = {}\n",
    "for name in data['Type'].unique():\n",
    "    ct = 0\n",
    "    for i in data['Type']:\n",
    "        if(i == name):\n",
    "            ct+=1\n",
    "    types[name] = ct\n",
    "print(types)"
   ]
  },
  {
   "cell_type": "code",
   "execution_count": 49,
   "id": "31ba74c4-abf5-4710-98e3-262af19e7b1b",
   "metadata": {},
   "outputs": [
    {
     "data": {
      "text/plain": [
       "count       9360\n",
       "unique        33\n",
       "top       FAMILY\n",
       "freq        1746\n",
       "Name: Category, dtype: object"
      ]
     },
     "execution_count": 49,
     "metadata": {},
     "output_type": "execute_result"
    }
   ],
   "source": [
    "data['Category'].describe()\n"
   ]
  },
  {
   "cell_type": "code",
   "execution_count": null,
   "id": "a54b581d-8abd-4337-a223-72af3db2221f",
   "metadata": {},
   "outputs": [],
   "source": [
    " "
   ]
  }
 ],
 "metadata": {
  "kernelspec": {
   "display_name": "Python [conda env:base] *",
   "language": "python",
   "name": "conda-base-py"
  },
  "language_info": {
   "codemirror_mode": {
    "name": "ipython",
    "version": 3
   },
   "file_extension": ".py",
   "mimetype": "text/x-python",
   "name": "python",
   "nbconvert_exporter": "python",
   "pygments_lexer": "ipython3",
   "version": "3.13.5"
  }
 },
 "nbformat": 4,
 "nbformat_minor": 5
}
