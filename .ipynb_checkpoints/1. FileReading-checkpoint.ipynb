{
 "cells": [
  {
   "cell_type": "code",
   "execution_count": 1,
   "id": "f8f68094-d626-4bfa-b6f6-6bd90a53bf85",
   "metadata": {},
   "outputs": [
    {
     "name": "stdout",
     "output_type": "stream",
     "text": [
      "Hello Everyone\n",
      "Everyone Hellow\n",
      "Love is a feeling of strong attraction, affection, emotional attachment or concern for a person, animal, or thing.[1] It is expressed in many forms, encompassing a range of strong and positive emotional and mental states, from the most sublime virtue, good habit, deepest interpersonal affection, to the simplest pleasure.[2] An example of this range of meanings is that the love of a mother differs from the love of a spouse, which differs from the love of food.\n",
      "\n",
      "Love is considered to be both positive and negative, with its virtue representing kindness, compassion, and affection—\"the unselfish, loyal, and benevolent concern for the good of another\"—and its vice representing a moral flaw akin to vanity, selfishness, amour-propre, and egotism. It may also describe compassionate and affectionate actions towards other humans, oneself, or animals.[3] In its various forms, love acts as a major facilitator of interpersonal relationships, and owing to its central psychological importance, is one of the most common themes in the creative arts.[4][5] Love has been postulated to be a function that keeps human beings together against menaces and to facilitate the continuation of the species.[6]\n",
      "Ancient Greek philosophers identified six forms of love: familial love (storge), friendly love or platonic love (philia), romantic love (eros), self-love (philautia), guest love (xenia), and divine or unconditional love (agape). Modern authors have distinguished further varieties of love: fatuous love, unrequited love, empty love, companionate love, consummate love, compassionate love, infatuated love (passionate love or limerence), amour de soi, and courtly love. Numerous cultures have also distinguished Ren, Yuanfen, Mamihlapinatapai, Cafuné, Kama, Bhakti, Mettā, Ishq, Chesed, Amore, charity, Saudade (and other variants or symbioses of these states), as culturally unique words, definitions, or expressions of love in regard to specified \"moments\" currently lacking in the English language.[7]\n",
      "\n",
      "The colour wheel theory of love defines three primary,[i] three secondary,[ii] and nine tertiary[iii] love styles, describing them in terms of the traditional color wheel.[8][9] The triangular theory of love suggests intimacy,[iv] passion,[v] and commitment[vi] are core components of love.[10] Love has additional religious or spiritual meaning. This diversity of uses and meanings, combined with the complexity of the feelings involved, makes love unusually difficult to consistently define, compared to other emotional states.\n",
      "\n",
      "Definitions\n",
      "The word \"love\" can have a variety of related but distinct meanings in different contexts. Many other languages use multiple words to express some of the different concepts that in English are denoted as \"love\"; one example is the plurality of Greek concepts for \"love\" (agape, eros, philia, storge).[11] Cultural differences in conceptualizing love makes it difficult to establish a universal definition.[12]\n",
      "\n",
      "Although the nature or essence of love is a subject of frequent debate, different aspects of the word can be clarified by determining what is not love (antonyms of \"love\"). Love, as a general expression of positive sentiment (a stronger form of like), is commonly contrasted with hate (or neutral apathy). As a less sexual and more emotionally intimate form of romantic attachment, love is commonly contrasted with lust. As an interpersonal relationship with romantic overtones, love is sometimes contrasted with friendship, although the word love is often applied to close friendships or platonic love. Further possible ambiguities come with usages like \"girlfriend\", \"boyfriend\", and \"just good friends\".\n",
      "\n",
      "\n"
     ]
    }
   ],
   "source": [
    "fd = open('data.txt' , 'r')\n",
    "txt = fd.read()\n",
    "print(txt)\n",
    "fd.close()"
   ]
  },
  {
   "cell_type": "code",
   "execution_count": 2,
   "id": "83706dd8-281e-480b-9beb-d498202a47fb",
   "metadata": {},
   "outputs": [
    {
     "data": {
      "text/plain": [
       "'Hello Everyone\\nEveryone Hellow\\nLove is a feeling of strong attraction, affection, emotional attachment or concern for a person, animal, or thing.[1] It is expressed in many forms, encompassing a range of strong and positive emotional and mental states, from the most sublime virtue, good habit, deepest interpersonal affection, to the simplest pleasure.[2] An example of this range of meanings is that the love of a mother differs from the love of a spouse, which differs from the love of food.\\n\\nLove is considered to be both positive and negative, with its virtue representing kindness, compassion, and affection—\"the unselfish, loyal, and benevolent concern for the good of another\"—and its vice representing a moral flaw akin to vanity, selfishness, amour-propre, and egotism. It may also describe compassionate and affectionate actions towards other humans, oneself, or animals.[3] In its various forms, love acts as a major facilitator of interpersonal relationships, and owing to its central psychological importance, is one of the most common themes in the creative arts.[4][5] Love has been postulated to be a function that keeps human beings together against menaces and to facilitate the continuation of the species.[6]\\nAncient Greek philosophers identified six forms of love: familial love (storge), friendly love or platonic love (philia), romantic love (eros), self-love (philautia), guest love (xenia), and divine or unconditional love (agape). Modern authors have distinguished further varieties of love: fatuous love, unrequited love, empty love, companionate love, consummate love, compassionate love, infatuated love (passionate love or limerence), amour de soi, and courtly love. Numerous cultures have also distinguished Ren, Yuanfen, Mamihlapinatapai, Cafuné, Kama, Bhakti, Mettā, Ishq, Chesed, Amore, charity, Saudade (and other variants or symbioses of these states), as culturally unique words, definitions, or expressions of love in regard to specified \"moments\" currently lacking in the English language.[7]\\n\\nThe colour wheel theory of love defines three primary,[i] three secondary,[ii] and nine tertiary[iii] love styles, describing them in terms of the traditional color wheel.[8][9] The triangular theory of love suggests intimacy,[iv] passion,[v] and commitment[vi] are core components of love.[10] Love has additional religious or spiritual meaning. This diversity of uses and meanings, combined with the complexity of the feelings involved, makes love unusually difficult to consistently define, compared to other emotional states.\\n\\nDefinitions\\nThe word \"love\" can have a variety of related but distinct meanings in different contexts. Many other languages use multiple words to express some of the different concepts that in English are denoted as \"love\"; one example is the plurality of Greek concepts for \"love\" (agape, eros, philia, storge).[11] Cultural differences in conceptualizing love makes it difficult to establish a universal definition.[12]\\n\\nAlthough the nature or essence of love is a subject of frequent debate, different aspects of the word can be clarified by determining what is not love (antonyms of \"love\"). Love, as a general expression of positive sentiment (a stronger form of like), is commonly contrasted with hate (or neutral apathy). As a less sexual and more emotionally intimate form of romantic attachment, love is commonly contrasted with lust. As an interpersonal relationship with romantic overtones, love is sometimes contrasted with friendship, although the word love is often applied to close friendships or platonic love. Further possible ambiguities come with usages like \"girlfriend\", \"boyfriend\", and \"just good friends\".\\n\\n'"
      ]
     },
     "execution_count": 2,
     "metadata": {},
     "output_type": "execute_result"
    }
   ],
   "source": [
    "txt\n"
   ]
  },
  {
   "cell_type": "code",
   "execution_count": 3,
   "id": "68af2876-8eaf-4519-9e81-03e2b75e2223",
   "metadata": {},
   "outputs": [
    {
     "name": "stdout",
     "output_type": "stream",
     "text": [
      "Hello Everyone\n",
      "Everyone Hellow\n",
      "Love is a feeling of strong attraction, affection, emotional attachment or concern for a person, animal, or thing.[1] It is expressed in many forms, encompassing a range of strong and positive emotional and mental states, from the most sublime virtue, good habit, deepest interpersonal affection, to the simplest pleasure.[2] An example of this range of meanings is that the love of a mother differs from the love of a spouse, which differs from the love of food.\n",
      "\n",
      "Love is considered to be both positive and negative, with its virtue representing kindness, compassion, and affection—\"the unselfish, loyal, and benevolent concern for the good of another\"—and its vice representing a moral flaw akin to vanity, selfishness, amour-propre, and egotism. It may also describe compassionate and affectionate actions towards other humans, oneself, or animals.[3] In its various forms, love acts as a major facilitator of interpersonal relationships, and owing to its central psychological importance, is one of the most common themes in the creative arts.[4][5] Love has been postulated to be a function that keeps human beings together against menaces and to facilitate the continuation of the species.[6]\n",
      "Ancient Greek philosophers identified six forms of love: familial love (storge), friendly love or platonic love (philia), romantic love (eros), self-love (philautia), guest love (xenia), and divine or unconditional love (agape). Modern authors have distinguished further varieties of love: fatuous love, unrequited love, empty love, companionate love, consummate love, compassionate love, infatuated love (passionate love or limerence), amour de soi, and courtly love. Numerous cultures have also distinguished Ren, Yuanfen, Mamihlapinatapai, Cafuné, Kama, Bhakti, Mettā, Ishq, Chesed, Amore, charity, Saudade (and other variants or symbioses of these states), as culturally unique words, definitions, or expressions of love in regard to specified \"moments\" currently lacking in the English language.[7]\n",
      "\n",
      "The colour wheel theory of love defines three primary,[i] three secondary,[ii] and nine tertiary[iii] love styles, describing them in terms of the traditional color wheel.[8][9] The triangular theory of love suggests intimacy,[iv] passion,[v] and commitment[vi] are core components of love.[10] Love has additional religious or spiritual meaning. This diversity of uses and meanings, combined with the complexity of the feelings involved, makes love unusually difficult to consistently define, compared to other emotional states.\n",
      "\n",
      "Definitions\n",
      "The word \"love\" can have a variety of related but distinct meanings in different contexts. Many other languages use multiple words to express some of the different concepts that in English are denoted as \"love\"; one example is the plurality of Greek concepts for \"love\" (agape, eros, philia, storge).[11] Cultural differences in conceptualizing love makes it difficult to establish a universal definition.[12]\n",
      "\n",
      "Although the nature or essence of love is a subject of frequent debate, different aspects of the word can be clarified by determining what is not love (antonyms of \"love\"). Love, as a general expression of positive sentiment (a stronger form of like), is commonly contrasted with hate (or neutral apathy). As a less sexual and more emotionally intimate form of romantic attachment, love is commonly contrasted with lust. As an interpersonal relationship with romantic overtones, love is sometimes contrasted with friendship, although the word love is often applied to close friendships or platonic love. Further possible ambiguities come with usages like \"girlfriend\", \"boyfriend\", and \"just good friends\".\n",
      "\n",
      "\n"
     ]
    }
   ],
   "source": [
    "print(txt)\n"
   ]
  },
  {
   "cell_type": "code",
   "execution_count": 4,
   "id": "87f39ffe-4fe6-4999-b128-4c1ae739c75b",
   "metadata": {},
   "outputs": [
    {
     "data": {
      "text/plain": [
       "'Hello Everyone\\nEveryone Hellow\\nLove is a feeling of strong attraction, affection, emotional attachment or concern for a person, animal, or thing.[1] It is expressed in many forms, encompassing a range of strong and positive emotional and mental states, from the most sublime virtue, good habit, deepest interpersonal affection, to the simplest pleasure.[2] An example of this range of meanings is that the love of a mother differs from the love of a spouse, which differs from the love of food.\\n\\nLove is considered to be both positive and negative, with its virtue representing kindness, compassion, and affection—\"the unselfish, loyal, and benevolent concern for the good of another\"—and its vice representing a moral flaw akin to vanity, selfishness, amour-propre, and egotism. It may also describe compassionate and affectionate actions towards other humans, oneself, or animals.[3] In its various forms, love acts as a major facilitator of interpersonal relationships, and owing to its central psychological importance, is one of the most common themes in the creative arts.[4][5] Love has been postulated to be a function that keeps human beings together against menaces and to facilitate the continuation of the species.[6]\\nAncient Greek philosophers identified six forms of love: familial love (storge), friendly love or platonic love (philia), romantic love (eros), self-love (philautia), guest love (xenia), and divine or unconditional love (agape). Modern authors have distinguished further varieties of love: fatuous love, unrequited love, empty love, companionate love, consummate love, compassionate love, infatuated love (passionate love or limerence), amour de soi, and courtly love. Numerous cultures have also distinguished Ren, Yuanfen, Mamihlapinatapai, Cafuné, Kama, Bhakti, Mettā, Ishq, Chesed, Amore, charity, Saudade (and other variants or symbioses of these states), as culturally unique words, definitions, or expressions of love in regard to specified \"moments\" currently lacking in the English language.[7]\\n\\nThe colour wheel theory of love defines three primary,[i] three secondary,[ii] and nine tertiary[iii] love styles, describing them in terms of the traditional color wheel.[8][9] The triangular theory of love suggests intimacy,[iv] passion,[v] and commitment[vi] are core components of love.[10] Love has additional religious or spiritual meaning. This diversity of uses and meanings, combined with the complexity of the feelings involved, makes love unusually difficult to consistently define, compared to other emotional states.\\n\\nDefinitions\\nThe word \"love\" can have a variety of related but distinct meanings in different contexts. Many other languages use multiple words to express some of the different concepts that in English are denoted as \"love\"; one example is the plurality of Greek concepts for \"love\" (agape, eros, philia, storge).[11] Cultural differences in conceptualizing love makes it difficult to establish a universal definition.[12]\\n\\nAlthough the nature or essence of love is a subject of frequent debate, different aspects of the word can be clarified by determining what is not love (antonyms of \"love\"). Love, as a general expression of positive sentiment (a stronger form of like), is commonly contrasted with hate (or neutral apathy). As a less sexual and more emotionally intimate form of romantic attachment, love is commonly contrasted with lust. As an interpersonal relationship with romantic overtones, love is sometimes contrasted with friendship, although the word love is often applied to close friendships or platonic love. Further possible ambiguities come with usages like \"girlfriend\", \"boyfriend\", and \"just good friends\".\\n\\n'"
      ]
     },
     "execution_count": 4,
     "metadata": {},
     "output_type": "execute_result"
    }
   ],
   "source": [
    "txt\n"
   ]
  },
  {
   "cell_type": "markdown",
   "id": "54c7e7dd-bcb4-4269-a744-9c91223791a4",
   "metadata": {},
   "source": [
    "### Split the text wherever \\n\\n is encountered Paragraphs"
   ]
  },
  {
   "cell_type": "code",
   "execution_count": 9,
   "id": "1b2f2a6d-b3f1-4c61-809c-8a80dc5380ff",
   "metadata": {},
   "outputs": [],
   "source": [
    "per = txt.split(\"\\n\\n\")"
   ]
  },
  {
   "cell_type": "markdown",
   "id": "253554aa-8782-4867-8bde-85cb79c2d94a",
   "metadata": {},
   "source": [
    "#### Count Paragraphs"
   ]
  },
  {
   "cell_type": "code",
   "execution_count": 11,
   "id": "d3456cc8-c94d-48a9-aba1-75cb605b8e02",
   "metadata": {},
   "outputs": [
    {
     "data": {
      "text/plain": [
       "6"
      ]
     },
     "execution_count": 11,
     "metadata": {},
     "output_type": "execute_result"
    }
   ],
   "source": [
    "len(per)"
   ]
  },
  {
   "cell_type": "markdown",
   "id": "ed7b299b-dc9a-4658-8b3f-9f816aa89dee",
   "metadata": {},
   "source": [
    "### Count Lines"
   ]
  },
  {
   "cell_type": "code",
   "execution_count": 14,
   "id": "66f1b309-e779-4a11-8797-309402c2fcf6",
   "metadata": {},
   "outputs": [],
   "source": [
    "lines = (txt.split(\".\"))"
   ]
  },
  {
   "cell_type": "code",
   "execution_count": 16,
   "id": "d3dafcd5-94d3-4385-9ad1-7c155b52e6ca",
   "metadata": {},
   "outputs": [
    {
     "data": {
      "text/plain": [
       "22"
      ]
     },
     "execution_count": 16,
     "metadata": {},
     "output_type": "execute_result"
    }
   ],
   "source": [
    "len(lines[:-1])"
   ]
  },
  {
   "cell_type": "markdown",
   "id": "536da6c9-b909-4879-b36e-b2206932cf26",
   "metadata": {},
   "source": [
    "### Number of words\n"
   ]
  },
  {
   "cell_type": "code",
   "execution_count": 18,
   "id": "eb97dd2e-f05f-4fe5-b023-f848f1087f2a",
   "metadata": {},
   "outputs": [],
   "source": [
    "words = (txt.split(\" \"))"
   ]
  },
  {
   "cell_type": "code",
   "execution_count": 19,
   "id": "fc742f99-3f24-43a6-994e-dcd3909148f3",
   "metadata": {},
   "outputs": [
    {
     "data": {
      "text/plain": [
       "533"
      ]
     },
     "execution_count": 19,
     "metadata": {},
     "output_type": "execute_result"
    }
   ],
   "source": [
    "len(words)"
   ]
  },
  {
   "cell_type": "code",
   "execution_count": 22,
   "id": "6dce6b8f-3205-4cfd-9278-0dc964a2062a",
   "metadata": {},
   "outputs": [
    {
     "name": "stdout",
     "output_type": "stream",
     "text": [
      "533\n"
     ]
    }
   ],
   "source": [
    "print(len(words))"
   ]
  },
  {
   "cell_type": "markdown",
   "id": "12d2f89f-512d-40c1-86d2-dc121fe30d9d",
   "metadata": {},
   "source": [
    "# Advance Text processing"
   ]
  },
  {
   "cell_type": "code",
   "execution_count": 23,
   "id": "fd312023-35fc-46cc-8ed1-88504cd09889",
   "metadata": {},
   "outputs": [
    {
     "name": "stdout",
     "output_type": "stream",
     "text": [
      "Hello Everyone\n",
      "Everyone Hellow\n",
      "Love is a feeling of strong attraction, affection, emotional attachment or concern for a person, animal, or thing.[1] It is expressed in many forms, encompassing a range of strong and positive emotional and mental states, from the most sublime virtue, good habit, deepest interpersonal affection, to the simplest pleasure.[2] An example of this range of meanings is that the love of a mother differs from the love of a spouse, which differs from the love of food.\n",
      "\n",
      "Love is considered to be both positive and negative, with its virtue representing kindness, compassion, and affection—\"the unselfish, loyal, and benevolent concern for the good of another\"—and its vice representing a moral flaw akin to vanity, selfishness, amour-propre, and egotism. It may also describe compassionate and affectionate actions towards other humans, oneself, or animals.[3] In its various forms, love acts as a major facilitator of interpersonal relationships, and owing to its central psychological importance, is one of the most common themes in the creative arts.[4][5] Love has been postulated to be a function that keeps human beings together against menaces and to facilitate the continuation of the species.[6]\n",
      "Ancient Greek philosophers identified six forms of love: familial love (storge), friendly love or platonic love (philia), romantic love (eros), self-love (philautia), guest love (xenia), and divine or unconditional love (agape). Modern authors have distinguished further varieties of love: fatuous love, unrequited love, empty love, companionate love, consummate love, compassionate love, infatuated love (passionate love or limerence), amour de soi, and courtly love. Numerous cultures have also distinguished Ren, Yuanfen, Mamihlapinatapai, Cafuné, Kama, Bhakti, Mettā, Ishq, Chesed, Amore, charity, Saudade (and other variants or symbioses of these states), as culturally unique words, definitions, or expressions of love in regard to specified \"moments\" currently lacking in the English language.[7]\n",
      "\n",
      "The colour wheel theory of love defines three primary,[i] three secondary,[ii] and nine tertiary[iii] love styles, describing them in terms of the traditional color wheel.[8][9] The triangular theory of love suggests intimacy,[iv] passion,[v] and commitment[vi] are core components of love.[10] Love has additional religious or spiritual meaning. This diversity of uses and meanings, combined with the complexity of the feelings involved, makes love unusually difficult to consistently define, compared to other emotional states.\n",
      "\n",
      "Definitions\n",
      "The word \"love\" can have a variety of related but distinct meanings in different contexts. Many other languages use multiple words to express some of the different concepts that in English are denoted as \"love\"; one example is the plurality of Greek concepts for \"love\" (agape, eros, philia, storge).[11] Cultural differences in conceptualizing love makes it difficult to establish a universal definition.[12]\n",
      "\n",
      "Although the nature or essence of love is a subject of frequent debate, different aspects of the word can be clarified by determining what is not love (antonyms of \"love\"). Love, as a general expression of positive sentiment (a stronger form of like), is commonly contrasted with hate (or neutral apathy). As a less sexual and more emotionally intimate form of romantic attachment, love is commonly contrasted with lust. As an interpersonal relationship with romantic overtones, love is sometimes contrasted with friendship, although the word love is often applied to close friendships or platonic love. Further possible ambiguities come with usages like \"girlfriend\", \"boyfriend\", and \"just good friends\".\n",
      "\n",
      "\n"
     ]
    }
   ],
   "source": [
    "print(txt)"
   ]
  },
  {
   "cell_type": "markdown",
   "id": "08ea93c6-366c-4de2-97da-54168f439da7",
   "metadata": {},
   "source": [
    "### Above we have some numbers enclosed inside a square bracket we can say some unique characters which we dont need. So will will replace it using the replace function"
   ]
  },
  {
   "cell_type": "code",
   "execution_count": 26,
   "id": "10afe953-9bfd-4971-aec2-35dfd2d47180",
   "metadata": {},
   "outputs": [
    {
     "name": "stdout",
     "output_type": "stream",
     "text": [
      "[1]\n",
      "[2]\n",
      "[3]\n",
      "[4]\n",
      "[5]\n",
      "[6]\n",
      "[7]\n",
      "[8]\n",
      "[9]\n",
      "[10]\n",
      "[11]\n",
      "[12]\n"
     ]
    }
   ],
   "source": [
    "for i in range (1,13):\n",
    "    pattern = (\"[\" + str(i) + \"]\")\n",
    "    print(pattern)"
   ]
  },
  {
   "cell_type": "markdown",
   "id": "f4afda81-a396-4290-9a3f-7c51eefcd13a",
   "metadata": {},
   "source": [
    "### So we want to replace the above pattern with an empty string. also we typecasted i into a str\n"
   ]
  },
  {
   "cell_type": "code",
   "execution_count": 30,
   "id": "99f5cf21-0c3d-4dd1-b665-a04eddcb9fff",
   "metadata": {},
   "outputs": [],
   "source": [
    "for i in range (1,13):\n",
    "    pattern = (\"[\" + str(i) + \"]\")\n",
    "    txt = txt.replace(pattern , \"\")\n",
    "    "
   ]
  },
  {
   "cell_type": "code",
   "execution_count": 31,
   "id": "c95a9a3f-90b4-48af-a7e8-fcbf63a32ada",
   "metadata": {},
   "outputs": [
    {
     "name": "stdout",
     "output_type": "stream",
     "text": [
      "Hello Everyone\n",
      "Everyone Hellow\n",
      "Love is a feeling of strong attraction, affection, emotional attachment or concern for a person, animal, or thing.  It is expressed in many forms, encompassing a range of strong and positive emotional and mental states, from the most sublime virtue, good habit, deepest interpersonal affection, to the simplest pleasure.  An example of this range of meanings is that the love of a mother differs from the love of a spouse, which differs from the love of food.\n",
      "\n",
      "Love is considered to be both positive and negative, with its virtue representing kindness, compassion, and affection—\"the unselfish, loyal, and benevolent concern for the good of another\"—and its vice representing a moral flaw akin to vanity, selfishness, amour-propre, and egotism. It may also describe compassionate and affectionate actions towards other humans, oneself, or animals.  In its various forms, love acts as a major facilitator of interpersonal relationships, and owing to its central psychological importance, is one of the most common themes in the creative arts.   Love has been postulated to be a function that keeps human beings together against menaces and to facilitate the continuation of the species. \n",
      "Ancient Greek philosophers identified six forms of love: familial love (storge), friendly love or platonic love (philia), romantic love (eros), self-love (philautia), guest love (xenia), and divine or unconditional love (agape). Modern authors have distinguished further varieties of love: fatuous love, unrequited love, empty love, companionate love, consummate love, compassionate love, infatuated love (passionate love or limerence), amour de soi, and courtly love. Numerous cultures have also distinguished Ren, Yuanfen, Mamihlapinatapai, Cafuné, Kama, Bhakti, Mettā, Ishq, Chesed, Amore, charity, Saudade (and other variants or symbioses of these states), as culturally unique words, definitions, or expressions of love in regard to specified \"moments\" currently lacking in the English language. \n",
      "\n",
      "The colour wheel theory of love defines three primary,[i] three secondary,[ii] and nine tertiary[iii] love styles, describing them in terms of the traditional color wheel.   The triangular theory of love suggests intimacy,[iv] passion,[v] and commitment[vi] are core components of love.  Love has additional religious or spiritual meaning. This diversity of uses and meanings, combined with the complexity of the feelings involved, makes love unusually difficult to consistently define, compared to other emotional states.\n",
      "\n",
      "Definitions\n",
      "The word \"love\" can have a variety of related but distinct meanings in different contexts. Many other languages use multiple words to express some of the different concepts that in English are denoted as \"love\"; one example is the plurality of Greek concepts for \"love\" (agape, eros, philia, storge).  Cultural differences in conceptualizing love makes it difficult to establish a universal definition. \n",
      "\n",
      "Although the nature or essence of love is a subject of frequent debate, different aspects of the word can be clarified by determining what is not love (antonyms of \"love\"). Love, as a general expression of positive sentiment (a stronger form of like), is commonly contrasted with hate (or neutral apathy). As a less sexual and more emotionally intimate form of romantic attachment, love is commonly contrasted with lust. As an interpersonal relationship with romantic overtones, love is sometimes contrasted with friendship, although the word love is often applied to close friendships or platonic love. Further possible ambiguities come with usages like \"girlfriend\", \"boyfriend\", and \"just good friends\".\n",
      "\n",
      "\n"
     ]
    }
   ],
   "source": [
    "print(txt)"
   ]
  },
  {
   "cell_type": "markdown",
   "id": "ce901f01-54ea-415e-8cbf-50705a7cc9db",
   "metadata": {},
   "source": [
    "### For special characters\n"
   ]
  },
  {
   "cell_type": "code",
   "execution_count": null,
   "id": "5fb5b20e-0bec-4320-95dd-7ddddd180b2d",
   "metadata": {},
   "outputs": [],
   "source": []
  },
  {
   "cell_type": "code",
   "execution_count": null,
   "id": "b8b7f1ae-02ee-4903-a274-cdf6146d177a",
   "metadata": {},
   "outputs": [],
   "source": []
  }
 ],
 "metadata": {
  "kernelspec": {
   "display_name": "Python [conda env:base] *",
   "language": "python",
   "name": "conda-base-py"
  },
  "language_info": {
   "codemirror_mode": {
    "name": "ipython",
    "version": 3
   },
   "file_extension": ".py",
   "mimetype": "text/x-python",
   "name": "python",
   "nbconvert_exporter": "python",
   "pygments_lexer": "ipython3",
   "version": "3.13.5"
  }
 },
 "nbformat": 4,
 "nbformat_minor": 5
}
