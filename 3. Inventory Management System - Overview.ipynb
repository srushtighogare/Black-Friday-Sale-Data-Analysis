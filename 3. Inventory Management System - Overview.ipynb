{
 "cells": [
  {
   "cell_type": "code",
   "execution_count": 4,
   "id": "a3a9c7b4-ed5a-4b5f-89cb-90fdaacfaea1",
   "metadata": {},
   "outputs": [],
   "source": [
    "fd = open(\"Inventorymanagement.txt\", \"w\")\n",
    "\n",
    "fd.close()"
   ]
  },
  {
   "cell_type": "markdown",
   "id": "c06ddb3c-ba0b-409f-815a-0dab11d13c83",
   "metadata": {},
   "source": [
    "### Product Details\n",
    "1. Product Id\n",
    "2. Name of the product\n",
    "3. Price of the product\n",
    "4. Quantity\n",
    "5. Category"
   ]
  },
  {
   "cell_type": "code",
   "execution_count": 46,
   "id": "70560f4e-03c2-4697-975b-26e952233837",
   "metadata": {},
   "outputs": [],
   "source": [
    "fd = open(\"Inventorymanagement.txt\" , \"r\")\n",
    "products = fd.read().split(\"\\n\")\n",
    "fd.close()"
   ]
  },
  {
   "cell_type": "code",
   "execution_count": 47,
   "id": "5e0101a6-f282-41e4-997b-5172a718c8e8",
   "metadata": {},
   "outputs": [
    {
     "name": "stdout",
     "output_type": "stream",
     "text": [
      "1,kitkat,25,50\n",
      "['1', 'kitkat', '25', '50']\n",
      "2,milkybar,30,100\n",
      "['2', 'milkybar', '30', '100']\n",
      "3,cake,300,3\n",
      "['3', 'cake', '300', '3']\n",
      "4,mint,50,200\n",
      "['4', 'mint', '50', '200']\n",
      "\n",
      "['']\n"
     ]
    }
   ],
   "source": [
    "for product in products:\n",
    "    print(product)\n",
    "    print(product.split(\",\") ) ##coma separated products"
   ]
  },
  {
   "cell_type": "code",
   "execution_count": 9,
   "id": "a6c0f1d8-179b-4f54-b1b3-1243338612f0",
   "metadata": {},
   "outputs": [
    {
     "name": "stdin",
     "output_type": "stream",
     "text": [
      "Enter the id 4\n"
     ]
    },
    {
     "name": "stdout",
     "output_type": "stream",
     "text": [
      "4,mint,50,200\n"
     ]
    }
   ],
   "source": [
    "##To take input from user about which product they want and then fetching the product with the help of id\n",
    "ui_product_id = input(\"Enter the id\")\n",
    "for product in products:\n",
    "   if (product.split(\",\")[0]==ui_product_id):\n",
    "       print(product)\n",
    "    \n",
    "    "
   ]
  },
  {
   "cell_type": "markdown",
   "id": "8a1c79ee-8c29-4e8f-97f1-4c8b4da42895",
   "metadata": {},
   "source": [
    "### to get product quantity and product from user and genrate bill accordingly"
   ]
  },
  {
   "cell_type": "code",
   "execution_count": 22,
   "id": "f78276c0-ea92-4e19-8278-1c703f1f0678",
   "metadata": {},
   "outputs": [
    {
     "name": "stdin",
     "output_type": "stream",
     "text": [
      "Enter the id 3\n",
      "Enter quantity 2\n"
     ]
    },
    {
     "name": "stdout",
     "output_type": "stream",
     "text": [
      "--------------------------------\n",
      "product name: cake\n",
      "price       : 300\n",
      "quantity cust : 2\n",
      "--------------------------------\n",
      "Total bill is: 600\n"
     ]
    }
   ],
   "source": [
    "ui_product_id = input(\"Enter the id\")\n",
    "ui_product_quantity = input(\"Enter quantity\") \n",
    "print(\"--------------------------------\")\n",
    "for product in products:\n",
    "    product_details = product.split(',')\n",
    "    if (product_details[0]==ui_product_id):\n",
    "       print(\"product name:\" , product_details[1])\n",
    "       print(\"price       :\" , product_details[2])\n",
    "       print(\"quantity cust :\" , ui_product_quantity)\n",
    "       print(\"--------------------------------\")\n",
    "       print(\"Total bill is:\" , int(product_details[2])*int(ui_product_quantity))"
   ]
  },
  {
   "cell_type": "markdown",
   "id": "e9f1df62-84ca-4f07-b041-7661bdac4f35",
   "metadata": {},
   "source": [
    "## Update Inventory according to the purchases made and also update the text file complete code"
   ]
  },
  {
   "cell_type": "code",
   "execution_count": 32,
   "id": "2bd09c12-fc47-4e44-87b8-f83b3c44244b",
   "metadata": {},
   "outputs": [
    {
     "name": "stdin",
     "output_type": "stream",
     "text": [
      "Enter Username: Rishi\n",
      "Enter Contact no 47644\n",
      "Enter email rishi@gmail.com\n",
      "Enter the id 4\n",
      "Enter quantity 10\n"
     ]
    },
    {
     "name": "stdout",
     "output_type": "stream",
     "text": [
      "product name: mint\n",
      "price       : 50\n",
      "quantity cust : 10\n",
      "--------------------------------\n",
      "Total bill is: 500\n",
      "--------------------------------\n",
      "-------------------\n",
      "Inventory Updated\n"
     ]
    }
   ],
   "source": [
    "# Noting down the time\n",
    "import time \n",
    "# Reading the inventory\n",
    "fd = open(\"Inventorymanagement.txt\" , \"r\")\n",
    "products = fd.read().split(\"\\n\") ## To read the file \n",
    "fd.close()\n",
    "\n",
    "# Taking user input\n",
    "ui_username = input(\"Enter Username:\")\n",
    "ui_phoneno = input(\"Enter Contact no\")\n",
    "ui_email = input(\"Enter email\")\n",
    "ui_product_id = input(\"Enter the id\")\n",
    "ui_product_quantity = input(\"Enter quantity\")  ##input from user\n",
    "\n",
    "updated_product_lst = [] \n",
    "\n",
    "#Going through each product detail\n",
    "for product in products:\n",
    "    \n",
    "    prod_details = product.split(',') #splitting each and every detail of the product with a ,\n",
    "    ## to make changes and updates in the main product list\n",
    "    \n",
    "    if (prod_details[0]==ui_product_id): ##check whether the product user wants exists\n",
    "            \n",
    "            if(int(ui_product_quantity) <= int(prod_details[3])):\n",
    "            # checking if we hve enough quantity\n",
    "\n",
    "                #have enough quantity\n",
    "\n",
    "               print(\"product name:\" , prod_details[1])\n",
    "               print(\"price       :\" , prod_details[2])\n",
    "               print(\"quantity cust :\" , ui_product_quantity)\n",
    "               print(\"--------------------------------\")\n",
    "               print(\"Total bill is:\" , int(prod_details[2])*int(ui_product_quantity)) ## calculate total bill amount\n",
    "               print(\"--------------------------------\")\n",
    "\n",
    "                #Update the inventory text file\n",
    "               prod_details[3]=str(int(prod_details[3]) - int(ui_product_quantity)) ## minus the product from the inventory\n",
    "\n",
    "                # Generating Sales in sales.txt \n",
    "               fd = open(\"Sales.txt\",\"a\")\n",
    "               sales_detail = ui_username + \",\" + ui_phoneno +\",\" + ui_email +\",\"+ prod_details[1]+ \",\" + ui_product_id + \",\" + ui_product_quantity + \",\" + str(int(prod_details[2])*int(prod_details[3]))+\",\"+ time.ctime() + \"\\n\"\n",
    "               fd.write(sales_detail)\n",
    "               fd.close \n",
    "\n",
    "                #------------------------------------------------------------#\n",
    "                \n",
    "            else: # not have enough quantity\n",
    "                print(\"Not enough quantity.We have only\", prod_details[3],\"quantity\")\n",
    "                print(\"Would you like to purchase it?\")\n",
    "    \n",
    "                ch = input(\"Press Y/N\")\n",
    "                if(ch == \"Y\" or ch == \"y\"):\n",
    "                    #if you want to purchase with the remaining quatity\n",
    "                    print(\"product name:\" , prod_details[1])\n",
    "                    print(\"price       :\" , prod_details[2])\n",
    "                    print(\"quantity cust :\" , prod_details[3])\n",
    "                    print(\"--------------------------------\")\n",
    "                    print(\"Total bill is:\" , int(prod_details[2])*int(prod_details[3])) ## calculate total bill amount\n",
    "                    print(\"--------------------------------\")\n",
    "                    \n",
    "                 \n",
    "\n",
    "                   # Generating Sales in sales.txt \n",
    "                   fd = open(\"Sales.txt\",\"a\")\n",
    "                   sales_detail = ui_username + \",\" + ui_phoneno +\",\" + ui_email +\",\"+ prod_details[1]+ \",\" + ui_product_id + \",\" + str(prod_details[3]) + \",\" + str(int(prod_details[2])*int(prod_details[3]))+\",\"+ time.ctime() + \"\\n\"\n",
    "                   fd.write(sales_detail)\n",
    "                   fd.close \n",
    "                           \n",
    "                   #Update the inventory text file\n",
    "                   prod_details[3] = \"0\"\n",
    "\n",
    "                else:\n",
    "                    print(\"Thank You\")\n",
    "                \n",
    "         # updating inventory list       \n",
    "    updated_product_lst.append(prod_details) # to update the text file use append\n",
    "lst = []\n",
    "#updating inventory string\n",
    "for i in updated_product_lst:\n",
    "    \n",
    "    prod=i[0]+\",\"+i[1]+\",\"+i[2]+\",\"+i[3]+\"\\n\" # change the file to same format as the text file\n",
    "    lst.append(prod)\n",
    "    \n",
    "lst [-1] = lst[-1][:-1] # to remove the extra line\n",
    "\n",
    "#updating inventory in text file\n",
    "fd = open(\"Inventorymanagement.txt\",\"w\")\n",
    "\n",
    "for i in lst:\n",
    "    fd.write(i)\n",
    "\n",
    "fd.close()    \n",
    "print(\"-------------------\")\n",
    "print(\"Inventory Updated\")"
   ]
  },
  {
   "cell_type": "code",
   "execution_count": null,
   "id": "944234d7-70e7-4600-b7e4-fe7c7bd04ab8",
   "metadata": {},
   "outputs": [],
   "source": []
  }
 ],
 "metadata": {
  "kernelspec": {
   "display_name": "Python [conda env:base] *",
   "language": "python",
   "name": "conda-base-py"
  },
  "language_info": {
   "codemirror_mode": {
    "name": "ipython",
    "version": 3
   },
   "file_extension": ".py",
   "mimetype": "text/x-python",
   "name": "python",
   "nbconvert_exporter": "python",
   "pygments_lexer": "ipython3",
   "version": "3.13.5"
  }
 },
 "nbformat": 4,
 "nbformat_minor": 5
}
