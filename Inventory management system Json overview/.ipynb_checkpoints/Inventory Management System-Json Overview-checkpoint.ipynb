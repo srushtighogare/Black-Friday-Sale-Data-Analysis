{
 "cells": [
  {
   "cell_type": "markdown",
   "id": "3e101986-a985-4b40-8090-e27e2af52cf9",
   "metadata": {},
   "source": [
    "## Initialising the products in a dictionary and accesing them with the keys"
   ]
  },
  {
   "cell_type": "code",
   "execution_count": 1,
   "id": "228c493a-11e1-41d8-9cba-8fd470c29a7c",
   "metadata": {},
   "outputs": [],
   "source": [
    "\n",
    "record = {1001:{\"Name\":\" Kitkat\",    \"Price\":\"10\", \"Quantity\" : \"5\"} , \n",
    "          1002:{\"Name\" :\"Munch\" ,    \"Price\": \"20\",\"Quantity\" : \"40\"},\n",
    "          1003:{\"Name\":\"Candy\" ,     \"Price\":\"50\", \"Quantity\" : \"55\"},\n",
    "          1004:{\"Name\":\"Cake\" ,      \"Price\":\"350\",\"Quantity\" : \"10\"},\n",
    "          1005:{\"Name\": \"Dairymilk\", \"Price\":\"150\",\"Quantity\" : \"14\"}}\n"
   ]
  },
  {
   "cell_type": "code",
   "execution_count": 2,
   "id": "df368b82-49bb-4504-ab9a-56dbfe1f2783",
   "metadata": {},
   "outputs": [
    {
     "data": {
      "text/plain": [
       "{1001: {'Name': ' Kitkat', 'Price': '10', 'Quantity': '5'},\n",
       " 1002: {'Name': 'Munch', 'Price': '20', 'Quantity': '40'},\n",
       " 1003: {'Name': 'Candy', 'Price': '50', 'Quantity': '55'},\n",
       " 1004: {'Name': 'Cake', 'Price': '350', 'Quantity': '10'},\n",
       " 1005: {'Name': 'Dairymilk', 'Price': '150', 'Quantity': '14'}}"
      ]
     },
     "execution_count": 2,
     "metadata": {},
     "output_type": "execute_result"
    }
   ],
   "source": [
    "record"
   ]
  },
  {
   "cell_type": "code",
   "execution_count": 3,
   "id": "d4fff61b-fdb1-4ccb-a6b6-318d1e87681c",
   "metadata": {},
   "outputs": [
    {
     "data": {
      "text/plain": [
       "{'Name': 'Candy', 'Price': '50', 'Quantity': '55'}"
      ]
     },
     "execution_count": 3,
     "metadata": {},
     "output_type": "execute_result"
    }
   ],
   "source": [
    "record[1003] #access the product from its code ie its key"
   ]
  },
  {
   "cell_type": "code",
   "execution_count": 4,
   "id": "38bb32f2-e261-4de5-8985-b1195f30dbff",
   "metadata": {},
   "outputs": [
    {
     "name": "stdout",
     "output_type": "stream",
     "text": [
      "Munch\n",
      "20\n",
      "40\n"
     ]
    }
   ],
   "source": [
    "print(record[1002][\"Name\"])\n",
    "print(record[1002][\"Price\"])\n",
    "print(record[1002][\"Quantity\"])"
   ]
  },
  {
   "cell_type": "markdown",
   "id": "20550738-5deb-49c6-a99d-51707cc85955",
   "metadata": {},
   "source": [
    "## Generating a bill"
   ]
  },
  {
   "cell_type": "code",
   "execution_count": 32,
   "id": "5abbf507-3028-484e-8a21-b348af139be2",
   "metadata": {
    "scrolled": true
   },
   "outputs": [
    {
     "name": "stdout",
     "output_type": "stream",
     "text": [
      "--------------Menu----------------\n",
      "1001 : Kitkat | 10 | 0\n",
      "1002 : Munch | 20 | 30\n",
      "1003 : Candy | 50 | 55\n",
      "1004 : Cake | 350 | 10\n",
      "1005 : Dairymilk | 150 | 14\n",
      "----------------------------------\n",
      "\n"
     ]
    },
    {
     "name": "stdin",
     "output_type": "stream",
     "text": [
      "Enter Product ID:  1001\n",
      "Enter quantity:  4\n"
     ]
    },
    {
     "name": "stdout",
     "output_type": "stream",
     "text": [
      "\n",
      "❌ Not enough stock available!\n",
      "Available quantity: 0\n"
     ]
    },
    {
     "name": "stdin",
     "output_type": "stream",
     "text": [
      "Do you want to place order with available stock? (Y/N):  y\n"
     ]
    }
   ],
   "source": [
    "import json\n",
    "\n",
    "fd = open(\"Records.json\" , 'r')\n",
    "fd.read()\n",
    "fd.close()\n",
    "\n",
    "records = json.loads(js)\n",
    "\n",
    "# Show menu\n",
    "print(\"--------------Menu----------------\")\n",
    "for key in record:\n",
    "    print(key, \":\", record[key][\"Name\"], \"|\", record[key][\"Price\"], \"|\", record[key][\"Quantity\"])\n",
    "print(\"----------------------------------\\n\")\n",
    "\n",
    "# User input\n",
    "ui_pr_id = int(input(\"Enter Product ID: \"))\n",
    "ui_qn = int(input(\"Enter quantity: \"))\n",
    "available_quantity = int(record[ui_pr_id][\"Quantity\"])\n",
    "price = int(record[ui_pr_id][\"Price\"])\n",
    "\n",
    "# If enough stock\n",
    "if ui_qn <= available_quantity:\n",
    "    total = price * ui_qn\n",
    "    record[ui_pr_id][\"Quantity\"] = str(available_quantity - ui_qn)\n",
    "\n",
    "    print(\"\\n✅ Order placed successfully!\")\n",
    "    print(\"Name     :\", record[ui_pr_id][\"Name\"])\n",
    "    print(\"Price    :\", price)\n",
    "    print(\"Quantity :\", ui_qn)\n",
    "    print(\"Total Billing amount:\", total)\n",
    "\n",
    "# If not enough stock\n",
    "else:\n",
    "    print(\"\\n❌ Not enough stock available!\")\n",
    "    print(\"Available quantity:\", available_quantity)\n",
    "    response = input(\"Do you want to place order with available stock? (Y/N): \")\n",
    "\n",
    "    if response.lower() == \"y\":\n",
    "        total = price * available_quantity\n",
    "        record[ui_pr_id][\"Quantity\"] = \"0\"\n",
    "    \n",
    "    elif  (available_quantity == 0):\n",
    "        print(\"Thank you , not available\")    \n",
    "\n",
    "        print(\"\\n✅ Order placed with available stock.\")\n",
    "        print(\"Name     :\", record[ui_pr_id][\"Name\"])\n",
    "        print(\"Price    :\", price)\n",
    "        print(\"Quantity :\", available_quantity)\n",
    "        print(\"Total Billing amount:\", total)\n",
    "\n",
    "    else:\n",
    "        print(\"\\n👍 Thank you. Order not placed.\")\n",
    "\n",
    "\n",
    "# Save updated record to JSON\n",
    "\n",
    "with open(\"Records.json\", 'w') as fd:\n",
    "    json.dump(record, fd)\n"
   ]
  },
  {
   "cell_type": "code",
   "execution_count": null,
   "id": "4594a629-d12e-4f9c-8775-db8d71c6fe60",
   "metadata": {},
   "outputs": [],
   "source": []
  }
 ],
 "metadata": {
  "kernelspec": {
   "display_name": "Python [conda env:base] *",
   "language": "python",
   "name": "conda-base-py"
  },
  "language_info": {
   "codemirror_mode": {
    "name": "ipython",
    "version": 3
   },
   "file_extension": ".py",
   "mimetype": "text/x-python",
   "name": "python",
   "nbconvert_exporter": "python",
   "pygments_lexer": "ipython3",
   "version": "3.13.5"
  }
 },
 "nbformat": 4,
 "nbformat_minor": 5
}
